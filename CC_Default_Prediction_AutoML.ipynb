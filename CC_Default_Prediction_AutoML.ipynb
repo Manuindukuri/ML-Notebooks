{
  "nbformat": 4,
  "nbformat_minor": 0,
  "metadata": {
    "colab": {
      "provenance": []
    },
    "kernelspec": {
      "name": "python3",
      "display_name": "Python 3"
    },
    "language_info": {
      "name": "python"
    }
  },
  "cells": [
    {
      "cell_type": "markdown",
      "source": [
        "#Abstract\n",
        "This notebook aims to create the pedictive models of whether the customer will default to pay credit card bill in the coming month and interpret them. The steps include using pip installations and importing libraries. Proceeding further, a minimum memory size and a run time is set and 50% of availible resources are being used for the analysis and prediction after which H2O server starts on a random port. The data is then imported and studied. The Column ID, as it's irrelavant for prediction, hence the column is dropped. The Model is then trained Using H2O's AutoML. GBM Model is predicted by the AutoML. After which, RMSE comparison and understanding the leader board is done. Plotting of Variable importance plot and Partial Dependence Plots is depicted.\n",
        "\n"
      ],
      "metadata": {
        "id": "B39yCbyd0Mrh"
      }
    },
    {
      "cell_type": "markdown",
      "source": [
        "#About the data set\n",
        "\n",
        "There are 25 variables:\n",
        "\n",
        "ID: ID of each client\n",
        "\n",
        "LIMIT_BAL: Amount of given credit in NT dollars (includes individual and family/supplementary credit\n",
        "\n",
        "SEX: Gender (1=male, 2=female)\n",
        "\n",
        "EDUCATION: (1=graduate school, 2=university, 3=high school, 4=others, 5=unknown, 6=unknown)\n",
        "\n",
        "MARRIAGE: Marital status (1=married, 2=single, 3=others)\n",
        "\n",
        "AGE: Age in years\n",
        "\n",
        "PAY_0: Repayment status in September, 2005 (-1=pay duly, 1=payment delay for one month, 2=payment delay for two months, … 8=payment delay for eight months, 9=payment delay for nine months and above)\n",
        "\n",
        "PAY_2: Repayment status in August, 2005 (scale same as above)\n",
        "\n",
        "PAY_3: Repayment status in July, 2005 (scale same as above)\n",
        "\n",
        "PAY_4: Repayment status in June, 2005 (scale same as above)\n",
        "\n",
        "PAY_5: Repayment status in May, 2005 (scale same as above)\n",
        "\n",
        "PAY_6: Repayment status in April, 2005 (scale same as above)\n",
        "\n",
        "BILL_AMT1: Amount of bill statement in September, 2005 (NT dollar)\n",
        "\n",
        "BILL_AMT2: Amount of bill statement in August, 2005 (NT dollar)\n",
        "\n",
        "BILL_AMT3: Amount of bill statement in July, 2005 (NT dollar)\n",
        "\n",
        "BILL_AMT4: Amount of bill statement in June, 2005 (NT dollar)\n",
        "\n",
        "BILL_AMT5: Amount of bill statement in May, 2005 (NT dollar)\n",
        "\n",
        "BILL_AMT6: Amount of bill statement in April, 2005 (NT dollar)\n",
        "\n",
        "PAY_AMT1: Amount of previous payment in September, 2005 (NT dollar)\n",
        "\n",
        "PAY_AMT2: Amount of previous payment in August, 2005 (NT dollar)\n",
        "\n",
        "PAY_AMT3: Amount of previous payment in July, 2005 (NT dollar)\n",
        "\n",
        "PAY_AMT4: Amount of previous payment in June, 2005 (NT dollar)\n",
        "\n",
        "PAY_AMT5: Amount of previous payment in May, 2005 (NT dollar)\n",
        "\n",
        "PAY_AMT6: Amount of previous payment in April, 2005 (NT dollar)\n",
        "\n",
        "default.payment.next.month: Default payment (1=yes, 0=no)"
      ],
      "metadata": {
        "id": "a1w6BP-LGov-"
      }
    },
    {
      "cell_type": "markdown",
      "source": [
        "#Installing H2O.ai Automl for Python to run this notebook"
      ],
      "metadata": {
        "id": "tljaNeroz43i"
      }
    },
    {
      "cell_type": "markdown",
      "source": [
        "Use pip install"
      ],
      "metadata": {
        "id": "X2cNlmJFKNM2"
      }
    },
    {
      "cell_type": "code",
      "execution_count": null,
      "metadata": {
        "colab": {
          "base_uri": "https://localhost:8080/"
        },
        "id": "RUiuryTTzi9o",
        "outputId": "e950fb9c-96a5-4a0e-ec2b-95f860b7a1ec"
      },
      "outputs": [
        {
          "output_type": "stream",
          "name": "stdout",
          "text": [
            "Looking in indexes: https://pypi.org/simple, https://us-python.pkg.dev/colab-wheels/public/simple/\n",
            "Requirement already satisfied: requests in /usr/local/lib/python3.7/dist-packages (2.23.0)\n",
            "Requirement already satisfied: chardet<4,>=3.0.2 in /usr/local/lib/python3.7/dist-packages (from requests) (3.0.4)\n",
            "Requirement already satisfied: urllib3!=1.25.0,!=1.25.1,<1.26,>=1.21.1 in /usr/local/lib/python3.7/dist-packages (from requests) (1.24.3)\n",
            "Requirement already satisfied: idna<3,>=2.5 in /usr/local/lib/python3.7/dist-packages (from requests) (2.10)\n",
            "Requirement already satisfied: certifi>=2017.4.17 in /usr/local/lib/python3.7/dist-packages (from requests) (2022.9.24)\n",
            "Looking in indexes: https://pypi.org/simple, https://us-python.pkg.dev/colab-wheels/public/simple/\n",
            "Requirement already satisfied: tabulate in /usr/local/lib/python3.7/dist-packages (0.8.10)\n",
            "Looking in indexes: https://pypi.org/simple, https://us-python.pkg.dev/colab-wheels/public/simple/\n",
            "Requirement already satisfied: colorama>=0.3.8 in /usr/local/lib/python3.7/dist-packages (0.4.6)\n",
            "Looking in indexes: https://pypi.org/simple, https://us-python.pkg.dev/colab-wheels/public/simple/\n",
            "Requirement already satisfied: future in /usr/local/lib/python3.7/dist-packages (0.16.0)\n",
            "Found existing installation: h2o 3.38.0.2\n",
            "Uninstalling h2o-3.38.0.2:\n",
            "  Would remove:\n",
            "    /usr/local/lib/python3.7/dist-packages/h2o-3.38.0.2.dist-info/*\n",
            "    /usr/local/lib/python3.7/dist-packages/h2o/*\n",
            "Proceed (y/n)? y\n",
            "  Successfully uninstalled h2o-3.38.0.2\n",
            "Looking in indexes: https://pypi.org/simple, https://us-python.pkg.dev/colab-wheels/public/simple/\n",
            "Looking in links: http://h2o-release.s3.amazonaws.com/h2o/latest_stable_Py.html\n",
            "\u001b[33mWARNING: The repository located at h2o-release.s3.amazonaws.com is not a trusted or secure host and is being ignored. If this repository is available via HTTPS we recommend you use HTTPS instead, otherwise you may silence this warning and allow it anyway with '--trusted-host h2o-release.s3.amazonaws.com'.\u001b[0m\n",
            "Collecting h2o\n",
            "  Using cached h2o-3.38.0.2-py2.py3-none-any.whl\n",
            "Requirement already satisfied: requests in /usr/local/lib/python3.7/dist-packages (from h2o) (2.23.0)\n",
            "Requirement already satisfied: future in /usr/local/lib/python3.7/dist-packages (from h2o) (0.16.0)\n",
            "Requirement already satisfied: tabulate in /usr/local/lib/python3.7/dist-packages (from h2o) (0.8.10)\n",
            "Requirement already satisfied: certifi>=2017.4.17 in /usr/local/lib/python3.7/dist-packages (from requests->h2o) (2022.9.24)\n",
            "Requirement already satisfied: urllib3!=1.25.0,!=1.25.1,<1.26,>=1.21.1 in /usr/local/lib/python3.7/dist-packages (from requests->h2o) (1.24.3)\n",
            "Requirement already satisfied: idna<3,>=2.5 in /usr/local/lib/python3.7/dist-packages (from requests->h2o) (2.10)\n",
            "Requirement already satisfied: chardet<4,>=3.0.2 in /usr/local/lib/python3.7/dist-packages (from requests->h2o) (3.0.4)\n",
            "Installing collected packages: h2o\n",
            "Successfully installed h2o-3.38.0.2\n"
          ]
        }
      ],
      "source": [
        "!pip install requests\n",
        "! pip install tabulate\n",
        "!pip install \"colorama>=0.3.8\"\n",
        "!pip install future\n",
        "\n",
        "!pip uninstall h2o\n",
        "\n",
        "!pip install -f http://h2o-release.s3.amazonaws.com/h2o/latest_stable_Py.html h2o"
      ]
    },
    {
      "cell_type": "markdown",
      "source": [
        "Importing libraries"
      ],
      "metadata": {
        "id": "B-TC51McE1lp"
      }
    },
    {
      "cell_type": "code",
      "source": [
        "import h2o\n",
        "from h2o.automl import H2OAutoML\n",
        "import random, os, sys\n",
        "from datetime import datetime\n",
        "import pandas as pd\n",
        "import logging\n",
        "import csv\n",
        "import optparse\n",
        "import time\n",
        "import json\n",
        "from distutils.util import strtobool\n",
        "import psutil\n",
        "import numpy as np\n",
        "import matplotlib.pyplot as plt"
      ],
      "metadata": {
        "id": "yFJw9qsD1AYw"
      },
      "execution_count": null,
      "outputs": []
    },
    {
      "cell_type": "markdown",
      "source": [
        "Set a minimum memory size and a run time in seconds"
      ],
      "metadata": {
        "id": "hmGm71FhE3a2"
      }
    },
    {
      "cell_type": "code",
      "source": [
        "min_mem_size=6 \n",
        "run_time=222"
      ],
      "metadata": {
        "id": "pla78eJ4EyVH"
      },
      "execution_count": null,
      "outputs": []
    },
    {
      "cell_type": "markdown",
      "source": [
        "Use 50% of availible resources"
      ],
      "metadata": {
        "id": "MkK0BnxNE-oP"
      }
    },
    {
      "cell_type": "code",
      "source": [
        "pct_memory=0.5\n",
        "virtual_memory=psutil.virtual_memory()\n",
        "min_mem_size=int(round(int(pct_memory*virtual_memory.available)/1073741824,0))\n",
        "print(min_mem_size)"
      ],
      "metadata": {
        "colab": {
          "base_uri": "https://localhost:8080/"
        },
        "id": "0h4wPmLgFBZD",
        "outputId": "e28c389a-7b21-4809-faa5-81b9d8678bc7"
      },
      "execution_count": null,
      "outputs": [
        {
          "output_type": "stream",
          "name": "stdout",
          "text": [
            "3\n"
          ]
        }
      ]
    },
    {
      "cell_type": "markdown",
      "source": [
        "Start the H2O server on a random port"
      ],
      "metadata": {
        "id": "ZGezll51FU6o"
      }
    },
    {
      "cell_type": "code",
      "source": [
        "# 65535 Highest port no\n",
        "# Start the H2O server on a random port\n",
        "port_no=random.randint(5555,55555)\n",
        "\n",
        "try:\n",
        "  h2o.init(strict_version_check=False,min_mem_size_GB=min_mem_size,port=port_no) # start h2o\n",
        "except:\n",
        "  logging.critical('h2o.init')\n",
        "  h2o.download_all_logs(dirname=logs_path, filename=logfile)      \n",
        "  h2o.cluster().shutdown()\n",
        "  sys.exit(2)"
      ],
      "metadata": {
        "colab": {
          "base_uri": "https://localhost:8080/",
          "height": 544
        },
        "id": "AStzpRBZFV_s",
        "outputId": "f9ac466f-ba38-49d3-e558-74438d8765d2"
      },
      "execution_count": null,
      "outputs": [
        {
          "output_type": "stream",
          "name": "stdout",
          "text": [
            "Checking whether there is an H2O instance running at http://localhost:30471 ..... not found.\n",
            "Attempting to start a local H2O server...\n",
            "  Java Version: openjdk version \"11.0.16\" 2022-07-19; OpenJDK Runtime Environment (build 11.0.16+8-post-Ubuntu-0ubuntu118.04); OpenJDK 64-Bit Server VM (build 11.0.16+8-post-Ubuntu-0ubuntu118.04, mixed mode, sharing)\n",
            "  Starting server from /usr/local/lib/python3.7/dist-packages/h2o/backend/bin/h2o.jar\n",
            "  Ice root: /tmp/tmpg4bmkaxb\n",
            "  JVM stdout: /tmp/tmpg4bmkaxb/h2o_unknownUser_started_from_python.out\n",
            "  JVM stderr: /tmp/tmpg4bmkaxb/h2o_unknownUser_started_from_python.err\n",
            "  Server is running at http://127.0.0.1:30471\n",
            "Connecting to H2O server at http://127.0.0.1:30471 ... successful.\n"
          ]
        },
        {
          "output_type": "display_data",
          "data": {
            "text/plain": [
              "--------------------------  ----------------------------------\n",
              "H2O_cluster_uptime:         04 secs\n",
              "H2O_cluster_timezone:       Etc/UTC\n",
              "H2O_data_parsing_timezone:  UTC\n",
              "H2O_cluster_version:        3.38.0.2\n",
              "H2O_cluster_version_age:    11 days\n",
              "H2O_cluster_name:           H2O_from_python_unknownUser_95pgcj\n",
              "H2O_cluster_total_nodes:    1\n",
              "H2O_cluster_free_memory:    3.172 Gb\n",
              "H2O_cluster_total_cores:    2\n",
              "H2O_cluster_allowed_cores:  2\n",
              "H2O_cluster_status:         locked, healthy\n",
              "H2O_connection_url:         http://127.0.0.1:30471\n",
              "H2O_connection_proxy:       {\"http\": null, \"https\": null}\n",
              "H2O_internal_security:      False\n",
              "Python_version:             3.7.15 final\n",
              "--------------------------  ----------------------------------"
            ],
            "text/html": [
              "\n",
              "<style>\n",
              "\n",
              "#h2o-table-1.h2o-container {\n",
              "  overflow-x: auto;\n",
              "}\n",
              "#h2o-table-1 .h2o-table {\n",
              "  /* width: 100%; */\n",
              "  margin-top: 1em;\n",
              "  margin-bottom: 1em;\n",
              "}\n",
              "#h2o-table-1 .h2o-table caption {\n",
              "  white-space: nowrap;\n",
              "  caption-side: top;\n",
              "  text-align: left;\n",
              "  /* margin-left: 1em; */\n",
              "  margin: 0;\n",
              "  font-size: larger;\n",
              "}\n",
              "#h2o-table-1 .h2o-table thead {\n",
              "  white-space: nowrap; \n",
              "  position: sticky;\n",
              "  top: 0;\n",
              "  box-shadow: 0 -1px inset;\n",
              "}\n",
              "#h2o-table-1 .h2o-table tbody {\n",
              "  overflow: auto;\n",
              "}\n",
              "#h2o-table-1 .h2o-table th,\n",
              "#h2o-table-1 .h2o-table td {\n",
              "  text-align: right;\n",
              "  /* border: 1px solid; */\n",
              "}\n",
              "#h2o-table-1 .h2o-table tr:nth-child(even) {\n",
              "  /* background: #F5F5F5 */\n",
              "}\n",
              "\n",
              "</style>      \n",
              "<div id=\"h2o-table-1\" class=\"h2o-container\">\n",
              "  <table class=\"h2o-table\">\n",
              "    <caption></caption>\n",
              "    <thead></thead>\n",
              "    <tbody><tr><td>H2O_cluster_uptime:</td>\n",
              "<td>04 secs</td></tr>\n",
              "<tr><td>H2O_cluster_timezone:</td>\n",
              "<td>Etc/UTC</td></tr>\n",
              "<tr><td>H2O_data_parsing_timezone:</td>\n",
              "<td>UTC</td></tr>\n",
              "<tr><td>H2O_cluster_version:</td>\n",
              "<td>3.38.0.2</td></tr>\n",
              "<tr><td>H2O_cluster_version_age:</td>\n",
              "<td>11 days </td></tr>\n",
              "<tr><td>H2O_cluster_name:</td>\n",
              "<td>H2O_from_python_unknownUser_95pgcj</td></tr>\n",
              "<tr><td>H2O_cluster_total_nodes:</td>\n",
              "<td>1</td></tr>\n",
              "<tr><td>H2O_cluster_free_memory:</td>\n",
              "<td>3.172 Gb</td></tr>\n",
              "<tr><td>H2O_cluster_total_cores:</td>\n",
              "<td>2</td></tr>\n",
              "<tr><td>H2O_cluster_allowed_cores:</td>\n",
              "<td>2</td></tr>\n",
              "<tr><td>H2O_cluster_status:</td>\n",
              "<td>locked, healthy</td></tr>\n",
              "<tr><td>H2O_connection_url:</td>\n",
              "<td>http://127.0.0.1:30471</td></tr>\n",
              "<tr><td>H2O_connection_proxy:</td>\n",
              "<td>{\"http\": null, \"https\": null}</td></tr>\n",
              "<tr><td>H2O_internal_security:</td>\n",
              "<td>False</td></tr>\n",
              "<tr><td>Python_version:</td>\n",
              "<td>3.7.15 final</td></tr></tbody>\n",
              "  </table>\n",
              "</div>\n"
            ]
          },
          "metadata": {}
        }
      ]
    },
    {
      "cell_type": "markdown",
      "source": [
        "#Import, Manage and Understand Data"
      ],
      "metadata": {
        "id": "RsFo6D0_FhWI"
      }
    },
    {
      "cell_type": "code",
      "source": [
        "from google.colab import drive\n",
        "drive.mount('/content/drive')\n",
        "#Importing pandas and numpy\n",
        "import pandas as pd\n",
        "import numpy as np\n",
        "\n",
        "url = \"/content/drive/MyDrive/credit_df.csv\"\n",
        "df = h2o.import_file(path = url)\n",
        "# Dataset is now stored in a Pandas Dataframe"
      ],
      "metadata": {
        "colab": {
          "base_uri": "https://localhost:8080/"
        },
        "id": "fgPwzXQHFqGr",
        "outputId": "6c283160-40c9-4fad-d126-4246413f4601"
      },
      "execution_count": null,
      "outputs": [
        {
          "output_type": "stream",
          "name": "stdout",
          "text": [
            "Drive already mounted at /content/drive; to attempt to forcibly remount, call drive.mount(\"/content/drive\", force_remount=True).\n",
            "Parse progress: |████████████████████████████████████████████████████████████████| (done) 100%\n"
          ]
        }
      ]
    },
    {
      "cell_type": "code",
      "source": [
        "df.head()"
      ],
      "metadata": {
        "colab": {
          "base_uri": "https://localhost:8080/",
          "height": 409
        },
        "id": "4daLr86X_zhb",
        "outputId": "5e470a12-c0c9-47ea-9eac-e3d8f634dc8c"
      },
      "execution_count": null,
      "outputs": [
        {
          "output_type": "execute_result",
          "data": {
            "text/plain": [
              "  ID    LIMIT_BAL    SEX    EDUCATION    MARRIAGE    AGE    PAY_1    PAY_2    PAY_3    PAY_4    PAY_5    PAY_6    BILL_AMT1    BILL_AMT2    BILL_AMT3    BILL_AMT4    BILL_AMT5    BILL_AMT6    PAY_AMT1    PAY_AMT2    PAY_AMT3    PAY_AMT4    PAY_AMT5    PAY_AMT6    default.payment.next.month\n",
              "----  -----------  -----  -----------  ----------  -----  -------  -------  -------  -------  -------  -------  -----------  -----------  -----------  -----------  -----------  -----------  ----------  ----------  ----------  ----------  ----------  ----------  ----------------------------\n",
              "   1        20000      2            2           1     24        2        2       -1       -1       -2       -2         3913         3102          689            0            0            0           0         689           0           0           0           0                             1\n",
              "   2       120000      2            2           2     26       -1        2        0        0        0        2         2682         1725         2682         3272         3455         3261           0        1000        1000        1000           0        2000                             1\n",
              "   3        90000      2            2           2     34        0        0        0        0        0        0        29239        14027        13559        14331        14948        15549        1518        1500        1000        1000        1000        5000                             0\n",
              "   4        50000      2            2           1     37        0        0        0        0        0        0        46990        48233        49291        28314        28959        29547        2000        2019        1200        1100        1069        1000                             0\n",
              "   5        50000      1            2           1     57       -1        0       -1        0        0        0         8617         5670        35835        20940        19146        19131        2000       36681       10000        9000         689         679                             0\n",
              "   6        50000      1            1           2     37        0        0        0        0        0        0        64400        57069        57608        19394        19619        20024        2500        1815         657        1000        1000         800                             0\n",
              "   7       500000      1            1           2     29        0        0        0        0        0        0       367965       412023       445007       542653       483003       473944       55000       40000       38000       20239       13750       13770                             0\n",
              "   8       100000      2            2           2     23        0       -1       -1        0        0       -1        11876          380          601          221         -159          567         380         601           0         581        1687        1542                             0\n",
              "   9       140000      2            3           1     28        0        0        2        0        0        0        11285        14096        12108        12211        11793         3719        3329           0         432        1000        1000        1000                             0\n",
              "  10        20000      1            3           2     35       -2       -2       -2       -2       -1       -1            0            0            0            0        13007        13912           0           0           0       13007        1122           0                             0\n",
              "[10 rows x 25 columns]\n"
            ],
            "text/html": [
              "<table class='dataframe'>\n",
              "<thead>\n",
              "<tr><th style=\"text-align: right;\">  ID</th><th style=\"text-align: right;\">  LIMIT_BAL</th><th style=\"text-align: right;\">  SEX</th><th style=\"text-align: right;\">  EDUCATION</th><th style=\"text-align: right;\">  MARRIAGE</th><th style=\"text-align: right;\">  AGE</th><th style=\"text-align: right;\">  PAY_1</th><th style=\"text-align: right;\">  PAY_2</th><th style=\"text-align: right;\">  PAY_3</th><th style=\"text-align: right;\">  PAY_4</th><th style=\"text-align: right;\">  PAY_5</th><th style=\"text-align: right;\">  PAY_6</th><th style=\"text-align: right;\">  BILL_AMT1</th><th style=\"text-align: right;\">  BILL_AMT2</th><th style=\"text-align: right;\">  BILL_AMT3</th><th style=\"text-align: right;\">  BILL_AMT4</th><th style=\"text-align: right;\">  BILL_AMT5</th><th style=\"text-align: right;\">  BILL_AMT6</th><th style=\"text-align: right;\">  PAY_AMT1</th><th style=\"text-align: right;\">  PAY_AMT2</th><th style=\"text-align: right;\">  PAY_AMT3</th><th style=\"text-align: right;\">  PAY_AMT4</th><th style=\"text-align: right;\">  PAY_AMT5</th><th style=\"text-align: right;\">  PAY_AMT6</th><th style=\"text-align: right;\">  default.payment.next.month</th></tr>\n",
              "</thead>\n",
              "<tbody>\n",
              "<tr><td style=\"text-align: right;\">   1</td><td style=\"text-align: right;\">      20000</td><td style=\"text-align: right;\">    2</td><td style=\"text-align: right;\">          2</td><td style=\"text-align: right;\">         1</td><td style=\"text-align: right;\">   24</td><td style=\"text-align: right;\">      2</td><td style=\"text-align: right;\">      2</td><td style=\"text-align: right;\">     -1</td><td style=\"text-align: right;\">     -1</td><td style=\"text-align: right;\">     -2</td><td style=\"text-align: right;\">     -2</td><td style=\"text-align: right;\">       3913</td><td style=\"text-align: right;\">       3102</td><td style=\"text-align: right;\">        689</td><td style=\"text-align: right;\">          0</td><td style=\"text-align: right;\">          0</td><td style=\"text-align: right;\">          0</td><td style=\"text-align: right;\">         0</td><td style=\"text-align: right;\">       689</td><td style=\"text-align: right;\">         0</td><td style=\"text-align: right;\">         0</td><td style=\"text-align: right;\">         0</td><td style=\"text-align: right;\">         0</td><td style=\"text-align: right;\">                           1</td></tr>\n",
              "<tr><td style=\"text-align: right;\">   2</td><td style=\"text-align: right;\">     120000</td><td style=\"text-align: right;\">    2</td><td style=\"text-align: right;\">          2</td><td style=\"text-align: right;\">         2</td><td style=\"text-align: right;\">   26</td><td style=\"text-align: right;\">     -1</td><td style=\"text-align: right;\">      2</td><td style=\"text-align: right;\">      0</td><td style=\"text-align: right;\">      0</td><td style=\"text-align: right;\">      0</td><td style=\"text-align: right;\">      2</td><td style=\"text-align: right;\">       2682</td><td style=\"text-align: right;\">       1725</td><td style=\"text-align: right;\">       2682</td><td style=\"text-align: right;\">       3272</td><td style=\"text-align: right;\">       3455</td><td style=\"text-align: right;\">       3261</td><td style=\"text-align: right;\">         0</td><td style=\"text-align: right;\">      1000</td><td style=\"text-align: right;\">      1000</td><td style=\"text-align: right;\">      1000</td><td style=\"text-align: right;\">         0</td><td style=\"text-align: right;\">      2000</td><td style=\"text-align: right;\">                           1</td></tr>\n",
              "<tr><td style=\"text-align: right;\">   3</td><td style=\"text-align: right;\">      90000</td><td style=\"text-align: right;\">    2</td><td style=\"text-align: right;\">          2</td><td style=\"text-align: right;\">         2</td><td style=\"text-align: right;\">   34</td><td style=\"text-align: right;\">      0</td><td style=\"text-align: right;\">      0</td><td style=\"text-align: right;\">      0</td><td style=\"text-align: right;\">      0</td><td style=\"text-align: right;\">      0</td><td style=\"text-align: right;\">      0</td><td style=\"text-align: right;\">      29239</td><td style=\"text-align: right;\">      14027</td><td style=\"text-align: right;\">      13559</td><td style=\"text-align: right;\">      14331</td><td style=\"text-align: right;\">      14948</td><td style=\"text-align: right;\">      15549</td><td style=\"text-align: right;\">      1518</td><td style=\"text-align: right;\">      1500</td><td style=\"text-align: right;\">      1000</td><td style=\"text-align: right;\">      1000</td><td style=\"text-align: right;\">      1000</td><td style=\"text-align: right;\">      5000</td><td style=\"text-align: right;\">                           0</td></tr>\n",
              "<tr><td style=\"text-align: right;\">   4</td><td style=\"text-align: right;\">      50000</td><td style=\"text-align: right;\">    2</td><td style=\"text-align: right;\">          2</td><td style=\"text-align: right;\">         1</td><td style=\"text-align: right;\">   37</td><td style=\"text-align: right;\">      0</td><td style=\"text-align: right;\">      0</td><td style=\"text-align: right;\">      0</td><td style=\"text-align: right;\">      0</td><td style=\"text-align: right;\">      0</td><td style=\"text-align: right;\">      0</td><td style=\"text-align: right;\">      46990</td><td style=\"text-align: right;\">      48233</td><td style=\"text-align: right;\">      49291</td><td style=\"text-align: right;\">      28314</td><td style=\"text-align: right;\">      28959</td><td style=\"text-align: right;\">      29547</td><td style=\"text-align: right;\">      2000</td><td style=\"text-align: right;\">      2019</td><td style=\"text-align: right;\">      1200</td><td style=\"text-align: right;\">      1100</td><td style=\"text-align: right;\">      1069</td><td style=\"text-align: right;\">      1000</td><td style=\"text-align: right;\">                           0</td></tr>\n",
              "<tr><td style=\"text-align: right;\">   5</td><td style=\"text-align: right;\">      50000</td><td style=\"text-align: right;\">    1</td><td style=\"text-align: right;\">          2</td><td style=\"text-align: right;\">         1</td><td style=\"text-align: right;\">   57</td><td style=\"text-align: right;\">     -1</td><td style=\"text-align: right;\">      0</td><td style=\"text-align: right;\">     -1</td><td style=\"text-align: right;\">      0</td><td style=\"text-align: right;\">      0</td><td style=\"text-align: right;\">      0</td><td style=\"text-align: right;\">       8617</td><td style=\"text-align: right;\">       5670</td><td style=\"text-align: right;\">      35835</td><td style=\"text-align: right;\">      20940</td><td style=\"text-align: right;\">      19146</td><td style=\"text-align: right;\">      19131</td><td style=\"text-align: right;\">      2000</td><td style=\"text-align: right;\">     36681</td><td style=\"text-align: right;\">     10000</td><td style=\"text-align: right;\">      9000</td><td style=\"text-align: right;\">       689</td><td style=\"text-align: right;\">       679</td><td style=\"text-align: right;\">                           0</td></tr>\n",
              "<tr><td style=\"text-align: right;\">   6</td><td style=\"text-align: right;\">      50000</td><td style=\"text-align: right;\">    1</td><td style=\"text-align: right;\">          1</td><td style=\"text-align: right;\">         2</td><td style=\"text-align: right;\">   37</td><td style=\"text-align: right;\">      0</td><td style=\"text-align: right;\">      0</td><td style=\"text-align: right;\">      0</td><td style=\"text-align: right;\">      0</td><td style=\"text-align: right;\">      0</td><td style=\"text-align: right;\">      0</td><td style=\"text-align: right;\">      64400</td><td style=\"text-align: right;\">      57069</td><td style=\"text-align: right;\">      57608</td><td style=\"text-align: right;\">      19394</td><td style=\"text-align: right;\">      19619</td><td style=\"text-align: right;\">      20024</td><td style=\"text-align: right;\">      2500</td><td style=\"text-align: right;\">      1815</td><td style=\"text-align: right;\">       657</td><td style=\"text-align: right;\">      1000</td><td style=\"text-align: right;\">      1000</td><td style=\"text-align: right;\">       800</td><td style=\"text-align: right;\">                           0</td></tr>\n",
              "<tr><td style=\"text-align: right;\">   7</td><td style=\"text-align: right;\">     500000</td><td style=\"text-align: right;\">    1</td><td style=\"text-align: right;\">          1</td><td style=\"text-align: right;\">         2</td><td style=\"text-align: right;\">   29</td><td style=\"text-align: right;\">      0</td><td style=\"text-align: right;\">      0</td><td style=\"text-align: right;\">      0</td><td style=\"text-align: right;\">      0</td><td style=\"text-align: right;\">      0</td><td style=\"text-align: right;\">      0</td><td style=\"text-align: right;\">     367965</td><td style=\"text-align: right;\">     412023</td><td style=\"text-align: right;\">     445007</td><td style=\"text-align: right;\">     542653</td><td style=\"text-align: right;\">     483003</td><td style=\"text-align: right;\">     473944</td><td style=\"text-align: right;\">     55000</td><td style=\"text-align: right;\">     40000</td><td style=\"text-align: right;\">     38000</td><td style=\"text-align: right;\">     20239</td><td style=\"text-align: right;\">     13750</td><td style=\"text-align: right;\">     13770</td><td style=\"text-align: right;\">                           0</td></tr>\n",
              "<tr><td style=\"text-align: right;\">   8</td><td style=\"text-align: right;\">     100000</td><td style=\"text-align: right;\">    2</td><td style=\"text-align: right;\">          2</td><td style=\"text-align: right;\">         2</td><td style=\"text-align: right;\">   23</td><td style=\"text-align: right;\">      0</td><td style=\"text-align: right;\">     -1</td><td style=\"text-align: right;\">     -1</td><td style=\"text-align: right;\">      0</td><td style=\"text-align: right;\">      0</td><td style=\"text-align: right;\">     -1</td><td style=\"text-align: right;\">      11876</td><td style=\"text-align: right;\">        380</td><td style=\"text-align: right;\">        601</td><td style=\"text-align: right;\">        221</td><td style=\"text-align: right;\">       -159</td><td style=\"text-align: right;\">        567</td><td style=\"text-align: right;\">       380</td><td style=\"text-align: right;\">       601</td><td style=\"text-align: right;\">         0</td><td style=\"text-align: right;\">       581</td><td style=\"text-align: right;\">      1687</td><td style=\"text-align: right;\">      1542</td><td style=\"text-align: right;\">                           0</td></tr>\n",
              "<tr><td style=\"text-align: right;\">   9</td><td style=\"text-align: right;\">     140000</td><td style=\"text-align: right;\">    2</td><td style=\"text-align: right;\">          3</td><td style=\"text-align: right;\">         1</td><td style=\"text-align: right;\">   28</td><td style=\"text-align: right;\">      0</td><td style=\"text-align: right;\">      0</td><td style=\"text-align: right;\">      2</td><td style=\"text-align: right;\">      0</td><td style=\"text-align: right;\">      0</td><td style=\"text-align: right;\">      0</td><td style=\"text-align: right;\">      11285</td><td style=\"text-align: right;\">      14096</td><td style=\"text-align: right;\">      12108</td><td style=\"text-align: right;\">      12211</td><td style=\"text-align: right;\">      11793</td><td style=\"text-align: right;\">       3719</td><td style=\"text-align: right;\">      3329</td><td style=\"text-align: right;\">         0</td><td style=\"text-align: right;\">       432</td><td style=\"text-align: right;\">      1000</td><td style=\"text-align: right;\">      1000</td><td style=\"text-align: right;\">      1000</td><td style=\"text-align: right;\">                           0</td></tr>\n",
              "<tr><td style=\"text-align: right;\">  10</td><td style=\"text-align: right;\">      20000</td><td style=\"text-align: right;\">    1</td><td style=\"text-align: right;\">          3</td><td style=\"text-align: right;\">         2</td><td style=\"text-align: right;\">   35</td><td style=\"text-align: right;\">     -2</td><td style=\"text-align: right;\">     -2</td><td style=\"text-align: right;\">     -2</td><td style=\"text-align: right;\">     -2</td><td style=\"text-align: right;\">     -1</td><td style=\"text-align: right;\">     -1</td><td style=\"text-align: right;\">          0</td><td style=\"text-align: right;\">          0</td><td style=\"text-align: right;\">          0</td><td style=\"text-align: right;\">          0</td><td style=\"text-align: right;\">      13007</td><td style=\"text-align: right;\">      13912</td><td style=\"text-align: right;\">         0</td><td style=\"text-align: right;\">         0</td><td style=\"text-align: right;\">         0</td><td style=\"text-align: right;\">     13007</td><td style=\"text-align: right;\">      1122</td><td style=\"text-align: right;\">         0</td><td style=\"text-align: right;\">                           0</td></tr>\n",
              "</tbody>\n",
              "</table><pre style='font-size: smaller; margin-bottom: 1em;'>[10 rows x 25 columns]</pre>"
            ]
          },
          "metadata": {},
          "execution_count": 8
        }
      ]
    },
    {
      "cell_type": "markdown",
      "source": [
        "Dropping the ID column as it's not relevant in our prediction "
      ],
      "metadata": {
        "id": "JLE3oreGU-5P"
      }
    },
    {
      "cell_type": "code",
      "source": [
        "df = df.drop(\"ID\")"
      ],
      "metadata": {
        "id": "EOeSrmqUWMNv"
      },
      "execution_count": null,
      "outputs": []
    },
    {
      "cell_type": "code",
      "source": [
        "df.types"
      ],
      "metadata": {
        "colab": {
          "base_uri": "https://localhost:8080/"
        },
        "id": "eq5KaIcRBMDA",
        "outputId": "46015f8e-5552-49cb-feb5-32abd2e5d487"
      },
      "execution_count": null,
      "outputs": [
        {
          "output_type": "execute_result",
          "data": {
            "text/plain": [
              "{'LIMIT_BAL': 'int',\n",
              " 'SEX': 'int',\n",
              " 'EDUCATION': 'int',\n",
              " 'MARRIAGE': 'int',\n",
              " 'AGE': 'int',\n",
              " 'PAY_1': 'int',\n",
              " 'PAY_2': 'int',\n",
              " 'PAY_3': 'int',\n",
              " 'PAY_4': 'int',\n",
              " 'PAY_5': 'int',\n",
              " 'PAY_6': 'int',\n",
              " 'BILL_AMT1': 'int',\n",
              " 'BILL_AMT2': 'int',\n",
              " 'BILL_AMT3': 'int',\n",
              " 'BILL_AMT4': 'int',\n",
              " 'BILL_AMT5': 'int',\n",
              " 'BILL_AMT6': 'int',\n",
              " 'PAY_AMT1': 'int',\n",
              " 'PAY_AMT2': 'int',\n",
              " 'PAY_AMT3': 'int',\n",
              " 'PAY_AMT4': 'int',\n",
              " 'PAY_AMT5': 'int',\n",
              " 'PAY_AMT6': 'int',\n",
              " 'default.payment.next.month': 'int'}"
            ]
          },
          "metadata": {},
          "execution_count": 10
        }
      ]
    },
    {
      "cell_type": "code",
      "source": [
        "#Renaming the predictor variable for the ease of use\n",
        "\n",
        "df.rename(columns={'default.payment.next.month':'def_pay'})"
      ],
      "metadata": {
        "colab": {
          "base_uri": "https://localhost:8080/",
          "height": 409
        },
        "id": "8VOamSZNC_c5",
        "outputId": "52b8e4d6-e1d2-4023-f802-9e217883f47f"
      },
      "execution_count": null,
      "outputs": [
        {
          "output_type": "execute_result",
          "data": {
            "text/plain": [
              "  LIMIT_BAL    SEX    EDUCATION    MARRIAGE    AGE    PAY_1    PAY_2    PAY_3    PAY_4    PAY_5    PAY_6    BILL_AMT1    BILL_AMT2    BILL_AMT3    BILL_AMT4    BILL_AMT5    BILL_AMT6    PAY_AMT1    PAY_AMT2    PAY_AMT3    PAY_AMT4    PAY_AMT5    PAY_AMT6    def_pay\n",
              "-----------  -----  -----------  ----------  -----  -------  -------  -------  -------  -------  -------  -----------  -----------  -----------  -----------  -----------  -----------  ----------  ----------  ----------  ----------  ----------  ----------  ---------\n",
              "      20000      2            2           1     24        2        2       -1       -1       -2       -2         3913         3102          689            0            0            0           0         689           0           0           0           0          1\n",
              "     120000      2            2           2     26       -1        2        0        0        0        2         2682         1725         2682         3272         3455         3261           0        1000        1000        1000           0        2000          1\n",
              "      90000      2            2           2     34        0        0        0        0        0        0        29239        14027        13559        14331        14948        15549        1518        1500        1000        1000        1000        5000          0\n",
              "      50000      2            2           1     37        0        0        0        0        0        0        46990        48233        49291        28314        28959        29547        2000        2019        1200        1100        1069        1000          0\n",
              "      50000      1            2           1     57       -1        0       -1        0        0        0         8617         5670        35835        20940        19146        19131        2000       36681       10000        9000         689         679          0\n",
              "      50000      1            1           2     37        0        0        0        0        0        0        64400        57069        57608        19394        19619        20024        2500        1815         657        1000        1000         800          0\n",
              "     500000      1            1           2     29        0        0        0        0        0        0       367965       412023       445007       542653       483003       473944       55000       40000       38000       20239       13750       13770          0\n",
              "     100000      2            2           2     23        0       -1       -1        0        0       -1        11876          380          601          221         -159          567         380         601           0         581        1687        1542          0\n",
              "     140000      2            3           1     28        0        0        2        0        0        0        11285        14096        12108        12211        11793         3719        3329           0         432        1000        1000        1000          0\n",
              "      20000      1            3           2     35       -2       -2       -2       -2       -1       -1            0            0            0            0        13007        13912           0           0           0       13007        1122           0          0\n",
              "[30000 rows x 24 columns]\n"
            ],
            "text/html": [
              "<table class='dataframe'>\n",
              "<thead>\n",
              "<tr><th style=\"text-align: right;\">  LIMIT_BAL</th><th style=\"text-align: right;\">  SEX</th><th style=\"text-align: right;\">  EDUCATION</th><th style=\"text-align: right;\">  MARRIAGE</th><th style=\"text-align: right;\">  AGE</th><th style=\"text-align: right;\">  PAY_1</th><th style=\"text-align: right;\">  PAY_2</th><th style=\"text-align: right;\">  PAY_3</th><th style=\"text-align: right;\">  PAY_4</th><th style=\"text-align: right;\">  PAY_5</th><th style=\"text-align: right;\">  PAY_6</th><th style=\"text-align: right;\">  BILL_AMT1</th><th style=\"text-align: right;\">  BILL_AMT2</th><th style=\"text-align: right;\">  BILL_AMT3</th><th style=\"text-align: right;\">  BILL_AMT4</th><th style=\"text-align: right;\">  BILL_AMT5</th><th style=\"text-align: right;\">  BILL_AMT6</th><th style=\"text-align: right;\">  PAY_AMT1</th><th style=\"text-align: right;\">  PAY_AMT2</th><th style=\"text-align: right;\">  PAY_AMT3</th><th style=\"text-align: right;\">  PAY_AMT4</th><th style=\"text-align: right;\">  PAY_AMT5</th><th style=\"text-align: right;\">  PAY_AMT6</th><th style=\"text-align: right;\">  def_pay</th></tr>\n",
              "</thead>\n",
              "<tbody>\n",
              "<tr><td style=\"text-align: right;\">      20000</td><td style=\"text-align: right;\">    2</td><td style=\"text-align: right;\">          2</td><td style=\"text-align: right;\">         1</td><td style=\"text-align: right;\">   24</td><td style=\"text-align: right;\">      2</td><td style=\"text-align: right;\">      2</td><td style=\"text-align: right;\">     -1</td><td style=\"text-align: right;\">     -1</td><td style=\"text-align: right;\">     -2</td><td style=\"text-align: right;\">     -2</td><td style=\"text-align: right;\">       3913</td><td style=\"text-align: right;\">       3102</td><td style=\"text-align: right;\">        689</td><td style=\"text-align: right;\">          0</td><td style=\"text-align: right;\">          0</td><td style=\"text-align: right;\">          0</td><td style=\"text-align: right;\">         0</td><td style=\"text-align: right;\">       689</td><td style=\"text-align: right;\">         0</td><td style=\"text-align: right;\">         0</td><td style=\"text-align: right;\">         0</td><td style=\"text-align: right;\">         0</td><td style=\"text-align: right;\">        1</td></tr>\n",
              "<tr><td style=\"text-align: right;\">     120000</td><td style=\"text-align: right;\">    2</td><td style=\"text-align: right;\">          2</td><td style=\"text-align: right;\">         2</td><td style=\"text-align: right;\">   26</td><td style=\"text-align: right;\">     -1</td><td style=\"text-align: right;\">      2</td><td style=\"text-align: right;\">      0</td><td style=\"text-align: right;\">      0</td><td style=\"text-align: right;\">      0</td><td style=\"text-align: right;\">      2</td><td style=\"text-align: right;\">       2682</td><td style=\"text-align: right;\">       1725</td><td style=\"text-align: right;\">       2682</td><td style=\"text-align: right;\">       3272</td><td style=\"text-align: right;\">       3455</td><td style=\"text-align: right;\">       3261</td><td style=\"text-align: right;\">         0</td><td style=\"text-align: right;\">      1000</td><td style=\"text-align: right;\">      1000</td><td style=\"text-align: right;\">      1000</td><td style=\"text-align: right;\">         0</td><td style=\"text-align: right;\">      2000</td><td style=\"text-align: right;\">        1</td></tr>\n",
              "<tr><td style=\"text-align: right;\">      90000</td><td style=\"text-align: right;\">    2</td><td style=\"text-align: right;\">          2</td><td style=\"text-align: right;\">         2</td><td style=\"text-align: right;\">   34</td><td style=\"text-align: right;\">      0</td><td style=\"text-align: right;\">      0</td><td style=\"text-align: right;\">      0</td><td style=\"text-align: right;\">      0</td><td style=\"text-align: right;\">      0</td><td style=\"text-align: right;\">      0</td><td style=\"text-align: right;\">      29239</td><td style=\"text-align: right;\">      14027</td><td style=\"text-align: right;\">      13559</td><td style=\"text-align: right;\">      14331</td><td style=\"text-align: right;\">      14948</td><td style=\"text-align: right;\">      15549</td><td style=\"text-align: right;\">      1518</td><td style=\"text-align: right;\">      1500</td><td style=\"text-align: right;\">      1000</td><td style=\"text-align: right;\">      1000</td><td style=\"text-align: right;\">      1000</td><td style=\"text-align: right;\">      5000</td><td style=\"text-align: right;\">        0</td></tr>\n",
              "<tr><td style=\"text-align: right;\">      50000</td><td style=\"text-align: right;\">    2</td><td style=\"text-align: right;\">          2</td><td style=\"text-align: right;\">         1</td><td style=\"text-align: right;\">   37</td><td style=\"text-align: right;\">      0</td><td style=\"text-align: right;\">      0</td><td style=\"text-align: right;\">      0</td><td style=\"text-align: right;\">      0</td><td style=\"text-align: right;\">      0</td><td style=\"text-align: right;\">      0</td><td style=\"text-align: right;\">      46990</td><td style=\"text-align: right;\">      48233</td><td style=\"text-align: right;\">      49291</td><td style=\"text-align: right;\">      28314</td><td style=\"text-align: right;\">      28959</td><td style=\"text-align: right;\">      29547</td><td style=\"text-align: right;\">      2000</td><td style=\"text-align: right;\">      2019</td><td style=\"text-align: right;\">      1200</td><td style=\"text-align: right;\">      1100</td><td style=\"text-align: right;\">      1069</td><td style=\"text-align: right;\">      1000</td><td style=\"text-align: right;\">        0</td></tr>\n",
              "<tr><td style=\"text-align: right;\">      50000</td><td style=\"text-align: right;\">    1</td><td style=\"text-align: right;\">          2</td><td style=\"text-align: right;\">         1</td><td style=\"text-align: right;\">   57</td><td style=\"text-align: right;\">     -1</td><td style=\"text-align: right;\">      0</td><td style=\"text-align: right;\">     -1</td><td style=\"text-align: right;\">      0</td><td style=\"text-align: right;\">      0</td><td style=\"text-align: right;\">      0</td><td style=\"text-align: right;\">       8617</td><td style=\"text-align: right;\">       5670</td><td style=\"text-align: right;\">      35835</td><td style=\"text-align: right;\">      20940</td><td style=\"text-align: right;\">      19146</td><td style=\"text-align: right;\">      19131</td><td style=\"text-align: right;\">      2000</td><td style=\"text-align: right;\">     36681</td><td style=\"text-align: right;\">     10000</td><td style=\"text-align: right;\">      9000</td><td style=\"text-align: right;\">       689</td><td style=\"text-align: right;\">       679</td><td style=\"text-align: right;\">        0</td></tr>\n",
              "<tr><td style=\"text-align: right;\">      50000</td><td style=\"text-align: right;\">    1</td><td style=\"text-align: right;\">          1</td><td style=\"text-align: right;\">         2</td><td style=\"text-align: right;\">   37</td><td style=\"text-align: right;\">      0</td><td style=\"text-align: right;\">      0</td><td style=\"text-align: right;\">      0</td><td style=\"text-align: right;\">      0</td><td style=\"text-align: right;\">      0</td><td style=\"text-align: right;\">      0</td><td style=\"text-align: right;\">      64400</td><td style=\"text-align: right;\">      57069</td><td style=\"text-align: right;\">      57608</td><td style=\"text-align: right;\">      19394</td><td style=\"text-align: right;\">      19619</td><td style=\"text-align: right;\">      20024</td><td style=\"text-align: right;\">      2500</td><td style=\"text-align: right;\">      1815</td><td style=\"text-align: right;\">       657</td><td style=\"text-align: right;\">      1000</td><td style=\"text-align: right;\">      1000</td><td style=\"text-align: right;\">       800</td><td style=\"text-align: right;\">        0</td></tr>\n",
              "<tr><td style=\"text-align: right;\">     500000</td><td style=\"text-align: right;\">    1</td><td style=\"text-align: right;\">          1</td><td style=\"text-align: right;\">         2</td><td style=\"text-align: right;\">   29</td><td style=\"text-align: right;\">      0</td><td style=\"text-align: right;\">      0</td><td style=\"text-align: right;\">      0</td><td style=\"text-align: right;\">      0</td><td style=\"text-align: right;\">      0</td><td style=\"text-align: right;\">      0</td><td style=\"text-align: right;\">     367965</td><td style=\"text-align: right;\">     412023</td><td style=\"text-align: right;\">     445007</td><td style=\"text-align: right;\">     542653</td><td style=\"text-align: right;\">     483003</td><td style=\"text-align: right;\">     473944</td><td style=\"text-align: right;\">     55000</td><td style=\"text-align: right;\">     40000</td><td style=\"text-align: right;\">     38000</td><td style=\"text-align: right;\">     20239</td><td style=\"text-align: right;\">     13750</td><td style=\"text-align: right;\">     13770</td><td style=\"text-align: right;\">        0</td></tr>\n",
              "<tr><td style=\"text-align: right;\">     100000</td><td style=\"text-align: right;\">    2</td><td style=\"text-align: right;\">          2</td><td style=\"text-align: right;\">         2</td><td style=\"text-align: right;\">   23</td><td style=\"text-align: right;\">      0</td><td style=\"text-align: right;\">     -1</td><td style=\"text-align: right;\">     -1</td><td style=\"text-align: right;\">      0</td><td style=\"text-align: right;\">      0</td><td style=\"text-align: right;\">     -1</td><td style=\"text-align: right;\">      11876</td><td style=\"text-align: right;\">        380</td><td style=\"text-align: right;\">        601</td><td style=\"text-align: right;\">        221</td><td style=\"text-align: right;\">       -159</td><td style=\"text-align: right;\">        567</td><td style=\"text-align: right;\">       380</td><td style=\"text-align: right;\">       601</td><td style=\"text-align: right;\">         0</td><td style=\"text-align: right;\">       581</td><td style=\"text-align: right;\">      1687</td><td style=\"text-align: right;\">      1542</td><td style=\"text-align: right;\">        0</td></tr>\n",
              "<tr><td style=\"text-align: right;\">     140000</td><td style=\"text-align: right;\">    2</td><td style=\"text-align: right;\">          3</td><td style=\"text-align: right;\">         1</td><td style=\"text-align: right;\">   28</td><td style=\"text-align: right;\">      0</td><td style=\"text-align: right;\">      0</td><td style=\"text-align: right;\">      2</td><td style=\"text-align: right;\">      0</td><td style=\"text-align: right;\">      0</td><td style=\"text-align: right;\">      0</td><td style=\"text-align: right;\">      11285</td><td style=\"text-align: right;\">      14096</td><td style=\"text-align: right;\">      12108</td><td style=\"text-align: right;\">      12211</td><td style=\"text-align: right;\">      11793</td><td style=\"text-align: right;\">       3719</td><td style=\"text-align: right;\">      3329</td><td style=\"text-align: right;\">         0</td><td style=\"text-align: right;\">       432</td><td style=\"text-align: right;\">      1000</td><td style=\"text-align: right;\">      1000</td><td style=\"text-align: right;\">      1000</td><td style=\"text-align: right;\">        0</td></tr>\n",
              "<tr><td style=\"text-align: right;\">      20000</td><td style=\"text-align: right;\">    1</td><td style=\"text-align: right;\">          3</td><td style=\"text-align: right;\">         2</td><td style=\"text-align: right;\">   35</td><td style=\"text-align: right;\">     -2</td><td style=\"text-align: right;\">     -2</td><td style=\"text-align: right;\">     -2</td><td style=\"text-align: right;\">     -2</td><td style=\"text-align: right;\">     -1</td><td style=\"text-align: right;\">     -1</td><td style=\"text-align: right;\">          0</td><td style=\"text-align: right;\">          0</td><td style=\"text-align: right;\">          0</td><td style=\"text-align: right;\">          0</td><td style=\"text-align: right;\">      13007</td><td style=\"text-align: right;\">      13912</td><td style=\"text-align: right;\">         0</td><td style=\"text-align: right;\">         0</td><td style=\"text-align: right;\">         0</td><td style=\"text-align: right;\">     13007</td><td style=\"text-align: right;\">      1122</td><td style=\"text-align: right;\">         0</td><td style=\"text-align: right;\">        0</td></tr>\n",
              "</tbody>\n",
              "</table><pre style='font-size: smaller; margin-bottom: 1em;'>[30000 rows x 24 columns]</pre>"
            ]
          },
          "metadata": {},
          "execution_count": 11
        }
      ]
    },
    {
      "cell_type": "code",
      "source": [
        "df.describe()"
      ],
      "metadata": {
        "colab": {
          "base_uri": "https://localhost:8080/",
          "height": 691
        },
        "id": "pFgZgpTZBaBI",
        "outputId": "62396b2f-c8fe-4b7e-d7af-2395bfe56d7d"
      },
      "execution_count": null,
      "outputs": [
        {
          "output_type": "display_data",
          "data": {
            "text/plain": [
              "Rows:30000\n",
              "Cols:24\n"
            ],
            "text/html": [
              "<pre style='margin: 1em 0 1em 0;'>Rows:30000\n",
              "Cols:24\n",
              "</pre>"
            ]
          },
          "metadata": {}
        },
        {
          "output_type": "display_data",
          "data": {
            "text/plain": [
              "         LIMIT_BAL           SEX                 EDUCATION           MARRIAGE            AGE                PAY_1                  PAY_2                 PAY_3                 PAY_4                PAY_5              PAY_6                BILL_AMT1          BILL_AMT2           BILL_AMT3          BILL_AMT4           BILL_AMT5          BILL_AMT6          PAY_AMT1            PAY_AMT2            PAY_AMT3            PAY_AMT4           PAY_AMT5            PAY_AMT6            def_pay\n",
              "-------  ------------------  ------------------  ------------------  ------------------  -----------------  ---------------------  --------------------  --------------------  -------------------  -----------------  -------------------  -----------------  ------------------  -----------------  ------------------  -----------------  -----------------  ------------------  ------------------  ------------------  -----------------  ------------------  ------------------  -------------------\n",
              "type     int                 int                 int                 int                 int                int                    int                   int                   int                  int                int                  int                int                 int                int                 int                int                int                 int                 int                 int                int                 int                 int\n",
              "mins     10000.0             1.0                 0.0                 0.0                 21.0               -2.0                   -2.0                  -2.0                  -2.0                 -2.0               -2.0                 -165580.0          -69777.0            -157264.0          -170000.0           -81334.0           -339603.0          0.0                 0.0                 0.0                 0.0                0.0                 0.0                 0.0\n",
              "mean     167484.32266666647  1.6037333333333323  1.8531333333333333  1.5518666666666652  35.4855            -0.016699999999999975  -0.13376666666666673  -0.16619999999999982  -0.2206666666666666  -0.2662            -0.2911000000000001  51223.33090000003  49179.075166666706  47013.15479999994  43262.948966666634  40311.40096666662  38871.7604         5663.580499999998   5921.163500000004   5225.6815           4826.076866666671  4799.387633333334   5215.502566666669   0.2212\n",
              "maxs     1000000.0           2.0                 6.0                 3.0                 79.0               8.0                    8.0                   8.0                   8.0                  8.0                8.0                  964511.0           983931.0            1664089.0          891586.0            927171.0           961664.0           873552.0            1684259.0           896040.0            621000.0           426529.0            528666.0            1.0\n",
              "sigma    129747.66156720235  0.4891291960902606  0.7903486597207291  0.5219696006132486  9.217904068090187  1.1238015279973343     1.197185973034553     1.1968675684465737    1.169138622402337    1.133187406002748  1.1499876256079027   73635.86057552957  71173.76878252834   69349.38742703684  64332.856133916284  60797.15577026487  59554.10753674571  16563.280354025766  23040.870402057237  17606.961469803104  15666.159744032    15278.305679144796  17777.465775435303  0.41506180569093337\n",
              "zeros    0                   0                   14                  54                  0                  14737                  15730                 15764                 16455                16947              16286                2008               2506                2870               3195                3506               4020               5249                5396                5968                6408               6703                7173                23364\n",
              "missing  0                   0                   0                   0                   0                  0                      0                     0                     0                    0                  0                    0                  0                   0                  0                   0                  0                  0                   0                   0                   0                  0                   0                   0\n",
              "0        20000.0             2.0                 2.0                 1.0                 24.0               2.0                    2.0                   -1.0                  -1.0                 -2.0               -2.0                 3913.0             3102.0              689.0              0.0                 0.0                0.0                0.0                 689.0               0.0                 0.0                0.0                 0.0                 1.0\n",
              "1        120000.0            2.0                 2.0                 2.0                 26.0               -1.0                   2.0                   0.0                   0.0                  0.0                2.0                  2682.0             1725.0              2682.0             3272.0              3455.0             3261.0             0.0                 1000.0              1000.0              1000.0             0.0                 2000.0              1.0\n",
              "2        90000.0             2.0                 2.0                 2.0                 34.0               0.0                    0.0                   0.0                   0.0                  0.0                0.0                  29239.0            14027.0             13559.0            14331.0             14948.0            15549.0            1518.0              1500.0              1000.0              1000.0             1000.0              5000.0              0.0\n",
              "3        50000.0             2.0                 2.0                 1.0                 37.0               0.0                    0.0                   0.0                   0.0                  0.0                0.0                  46990.0            48233.0             49291.0            28314.0             28959.0            29547.0            2000.0              2019.0              1200.0              1100.0             1069.0              1000.0              0.0\n",
              "4        50000.0             1.0                 2.0                 1.0                 57.0               -1.0                   0.0                   -1.0                  0.0                  0.0                0.0                  8617.0             5670.0              35835.0            20940.0             19146.0            19131.0            2000.0              36681.0             10000.0             9000.0             689.0               679.0               0.0\n",
              "5        50000.0             1.0                 1.0                 2.0                 37.0               0.0                    0.0                   0.0                   0.0                  0.0                0.0                  64400.0            57069.0             57608.0            19394.0             19619.0            20024.0            2500.0              1815.0              657.0               1000.0             1000.0              800.0               0.0\n",
              "6        500000.0            1.0                 1.0                 2.0                 29.0               0.0                    0.0                   0.0                   0.0                  0.0                0.0                  367965.0           412023.0            445007.0           542653.0            483003.0           473944.0           55000.0             40000.0             38000.0             20239.0            13750.0             13770.0             0.0\n",
              "7        100000.0            2.0                 2.0                 2.0                 23.0               0.0                    -1.0                  -1.0                  0.0                  0.0                -1.0                 11876.0            380.0               601.0              221.0               -159.0             567.0              380.0               601.0               0.0                 581.0              1687.0              1542.0              0.0\n",
              "8        140000.0            2.0                 3.0                 1.0                 28.0               0.0                    0.0                   2.0                   0.0                  0.0                0.0                  11285.0            14096.0             12108.0            12211.0             11793.0            3719.0             3329.0              0.0                 432.0               1000.0             1000.0              1000.0              0.0\n",
              "9        20000.0             1.0                 3.0                 2.0                 35.0               -2.0                   -2.0                  -2.0                  -2.0                 -1.0               -1.0                 0.0                0.0                 0.0                0.0                 13007.0            13912.0            0.0                 0.0                 0.0                 13007.0            1122.0              0.0                 0.0\n",
              "[30000 rows x 24 columns]\n"
            ],
            "text/html": [
              "<table class='dataframe'>\n",
              "<thead>\n",
              "<tr><th>       </th><th>LIMIT_BAL         </th><th>SEX               </th><th>EDUCATION         </th><th>MARRIAGE          </th><th>AGE              </th><th>PAY_1                </th><th>PAY_2               </th><th>PAY_3               </th><th>PAY_4              </th><th>PAY_5            </th><th>PAY_6              </th><th>BILL_AMT1        </th><th>BILL_AMT2         </th><th>BILL_AMT3        </th><th>BILL_AMT4         </th><th>BILL_AMT5        </th><th>BILL_AMT6        </th><th>PAY_AMT1          </th><th>PAY_AMT2          </th><th>PAY_AMT3          </th><th>PAY_AMT4         </th><th>PAY_AMT5          </th><th>PAY_AMT6          </th><th>def_pay            </th></tr>\n",
              "</thead>\n",
              "<tbody>\n",
              "<tr><td>type   </td><td>int               </td><td>int               </td><td>int               </td><td>int               </td><td>int              </td><td>int                  </td><td>int                 </td><td>int                 </td><td>int                </td><td>int              </td><td>int                </td><td>int              </td><td>int               </td><td>int              </td><td>int               </td><td>int              </td><td>int              </td><td>int               </td><td>int               </td><td>int               </td><td>int              </td><td>int               </td><td>int               </td><td>int                </td></tr>\n",
              "<tr><td>mins   </td><td>10000.0           </td><td>1.0               </td><td>0.0               </td><td>0.0               </td><td>21.0             </td><td>-2.0                 </td><td>-2.0                </td><td>-2.0                </td><td>-2.0               </td><td>-2.0             </td><td>-2.0               </td><td>-165580.0        </td><td>-69777.0          </td><td>-157264.0        </td><td>-170000.0         </td><td>-81334.0         </td><td>-339603.0        </td><td>0.0               </td><td>0.0               </td><td>0.0               </td><td>0.0              </td><td>0.0               </td><td>0.0               </td><td>0.0                </td></tr>\n",
              "<tr><td>mean   </td><td>167484.32266666647</td><td>1.6037333333333323</td><td>1.8531333333333333</td><td>1.5518666666666652</td><td>35.4855          </td><td>-0.016699999999999975</td><td>-0.13376666666666673</td><td>-0.16619999999999982</td><td>-0.2206666666666666</td><td>-0.2662          </td><td>-0.2911000000000001</td><td>51223.33090000003</td><td>49179.075166666706</td><td>47013.15479999994</td><td>43262.948966666634</td><td>40311.40096666662</td><td>38871.7604       </td><td>5663.580499999998 </td><td>5921.163500000004 </td><td>5225.6815         </td><td>4826.076866666671</td><td>4799.387633333334 </td><td>5215.502566666669 </td><td>0.2212             </td></tr>\n",
              "<tr><td>maxs   </td><td>1000000.0         </td><td>2.0               </td><td>6.0               </td><td>3.0               </td><td>79.0             </td><td>8.0                  </td><td>8.0                 </td><td>8.0                 </td><td>8.0                </td><td>8.0              </td><td>8.0                </td><td>964511.0         </td><td>983931.0          </td><td>1664089.0        </td><td>891586.0          </td><td>927171.0         </td><td>961664.0         </td><td>873552.0          </td><td>1684259.0         </td><td>896040.0          </td><td>621000.0         </td><td>426529.0          </td><td>528666.0          </td><td>1.0                </td></tr>\n",
              "<tr><td>sigma  </td><td>129747.66156720235</td><td>0.4891291960902606</td><td>0.7903486597207291</td><td>0.5219696006132486</td><td>9.217904068090187</td><td>1.1238015279973343   </td><td>1.197185973034553   </td><td>1.1968675684465737  </td><td>1.169138622402337  </td><td>1.133187406002748</td><td>1.1499876256079027 </td><td>73635.86057552957</td><td>71173.76878252834 </td><td>69349.38742703684</td><td>64332.856133916284</td><td>60797.15577026487</td><td>59554.10753674571</td><td>16563.280354025766</td><td>23040.870402057237</td><td>17606.961469803104</td><td>15666.159744032  </td><td>15278.305679144796</td><td>17777.465775435303</td><td>0.41506180569093337</td></tr>\n",
              "<tr><td>zeros  </td><td>0                 </td><td>0                 </td><td>14                </td><td>54                </td><td>0                </td><td>14737                </td><td>15730               </td><td>15764               </td><td>16455              </td><td>16947            </td><td>16286              </td><td>2008             </td><td>2506              </td><td>2870             </td><td>3195              </td><td>3506             </td><td>4020             </td><td>5249              </td><td>5396              </td><td>5968              </td><td>6408             </td><td>6703              </td><td>7173              </td><td>23364              </td></tr>\n",
              "<tr><td>missing</td><td>0                 </td><td>0                 </td><td>0                 </td><td>0                 </td><td>0                </td><td>0                    </td><td>0                   </td><td>0                   </td><td>0                  </td><td>0                </td><td>0                  </td><td>0                </td><td>0                 </td><td>0                </td><td>0                 </td><td>0                </td><td>0                </td><td>0                 </td><td>0                 </td><td>0                 </td><td>0                </td><td>0                 </td><td>0                 </td><td>0                  </td></tr>\n",
              "<tr><td>0      </td><td>20000.0           </td><td>2.0               </td><td>2.0               </td><td>1.0               </td><td>24.0             </td><td>2.0                  </td><td>2.0                 </td><td>-1.0                </td><td>-1.0               </td><td>-2.0             </td><td>-2.0               </td><td>3913.0           </td><td>3102.0            </td><td>689.0            </td><td>0.0               </td><td>0.0              </td><td>0.0              </td><td>0.0               </td><td>689.0             </td><td>0.0               </td><td>0.0              </td><td>0.0               </td><td>0.0               </td><td>1.0                </td></tr>\n",
              "<tr><td>1      </td><td>120000.0          </td><td>2.0               </td><td>2.0               </td><td>2.0               </td><td>26.0             </td><td>-1.0                 </td><td>2.0                 </td><td>0.0                 </td><td>0.0                </td><td>0.0              </td><td>2.0                </td><td>2682.0           </td><td>1725.0            </td><td>2682.0           </td><td>3272.0            </td><td>3455.0           </td><td>3261.0           </td><td>0.0               </td><td>1000.0            </td><td>1000.0            </td><td>1000.0           </td><td>0.0               </td><td>2000.0            </td><td>1.0                </td></tr>\n",
              "<tr><td>2      </td><td>90000.0           </td><td>2.0               </td><td>2.0               </td><td>2.0               </td><td>34.0             </td><td>0.0                  </td><td>0.0                 </td><td>0.0                 </td><td>0.0                </td><td>0.0              </td><td>0.0                </td><td>29239.0          </td><td>14027.0           </td><td>13559.0          </td><td>14331.0           </td><td>14948.0          </td><td>15549.0          </td><td>1518.0            </td><td>1500.0            </td><td>1000.0            </td><td>1000.0           </td><td>1000.0            </td><td>5000.0            </td><td>0.0                </td></tr>\n",
              "<tr><td>3      </td><td>50000.0           </td><td>2.0               </td><td>2.0               </td><td>1.0               </td><td>37.0             </td><td>0.0                  </td><td>0.0                 </td><td>0.0                 </td><td>0.0                </td><td>0.0              </td><td>0.0                </td><td>46990.0          </td><td>48233.0           </td><td>49291.0          </td><td>28314.0           </td><td>28959.0          </td><td>29547.0          </td><td>2000.0            </td><td>2019.0            </td><td>1200.0            </td><td>1100.0           </td><td>1069.0            </td><td>1000.0            </td><td>0.0                </td></tr>\n",
              "<tr><td>4      </td><td>50000.0           </td><td>1.0               </td><td>2.0               </td><td>1.0               </td><td>57.0             </td><td>-1.0                 </td><td>0.0                 </td><td>-1.0                </td><td>0.0                </td><td>0.0              </td><td>0.0                </td><td>8617.0           </td><td>5670.0            </td><td>35835.0          </td><td>20940.0           </td><td>19146.0          </td><td>19131.0          </td><td>2000.0            </td><td>36681.0           </td><td>10000.0           </td><td>9000.0           </td><td>689.0             </td><td>679.0             </td><td>0.0                </td></tr>\n",
              "<tr><td>5      </td><td>50000.0           </td><td>1.0               </td><td>1.0               </td><td>2.0               </td><td>37.0             </td><td>0.0                  </td><td>0.0                 </td><td>0.0                 </td><td>0.0                </td><td>0.0              </td><td>0.0                </td><td>64400.0          </td><td>57069.0           </td><td>57608.0          </td><td>19394.0           </td><td>19619.0          </td><td>20024.0          </td><td>2500.0            </td><td>1815.0            </td><td>657.0             </td><td>1000.0           </td><td>1000.0            </td><td>800.0             </td><td>0.0                </td></tr>\n",
              "<tr><td>6      </td><td>500000.0          </td><td>1.0               </td><td>1.0               </td><td>2.0               </td><td>29.0             </td><td>0.0                  </td><td>0.0                 </td><td>0.0                 </td><td>0.0                </td><td>0.0              </td><td>0.0                </td><td>367965.0         </td><td>412023.0          </td><td>445007.0         </td><td>542653.0          </td><td>483003.0         </td><td>473944.0         </td><td>55000.0           </td><td>40000.0           </td><td>38000.0           </td><td>20239.0          </td><td>13750.0           </td><td>13770.0           </td><td>0.0                </td></tr>\n",
              "<tr><td>7      </td><td>100000.0          </td><td>2.0               </td><td>2.0               </td><td>2.0               </td><td>23.0             </td><td>0.0                  </td><td>-1.0                </td><td>-1.0                </td><td>0.0                </td><td>0.0              </td><td>-1.0               </td><td>11876.0          </td><td>380.0             </td><td>601.0            </td><td>221.0             </td><td>-159.0           </td><td>567.0            </td><td>380.0             </td><td>601.0             </td><td>0.0               </td><td>581.0            </td><td>1687.0            </td><td>1542.0            </td><td>0.0                </td></tr>\n",
              "<tr><td>8      </td><td>140000.0          </td><td>2.0               </td><td>3.0               </td><td>1.0               </td><td>28.0             </td><td>0.0                  </td><td>0.0                 </td><td>2.0                 </td><td>0.0                </td><td>0.0              </td><td>0.0                </td><td>11285.0          </td><td>14096.0           </td><td>12108.0          </td><td>12211.0           </td><td>11793.0          </td><td>3719.0           </td><td>3329.0            </td><td>0.0               </td><td>432.0             </td><td>1000.0           </td><td>1000.0            </td><td>1000.0            </td><td>0.0                </td></tr>\n",
              "<tr><td>9      </td><td>20000.0           </td><td>1.0               </td><td>3.0               </td><td>2.0               </td><td>35.0             </td><td>-2.0                 </td><td>-2.0                </td><td>-2.0                </td><td>-2.0               </td><td>-1.0             </td><td>-1.0               </td><td>0.0              </td><td>0.0               </td><td>0.0              </td><td>0.0               </td><td>13007.0          </td><td>13912.0          </td><td>0.0               </td><td>0.0               </td><td>0.0               </td><td>13007.0          </td><td>1122.0            </td><td>0.0               </td><td>0.0                </td></tr>\n",
              "</tbody>\n",
              "</table><pre style='font-size: smaller; margin-bottom: 1em;'>[30000 rows x 24 columns]</pre>"
            ]
          },
          "metadata": {}
        }
      ]
    },
    {
      "cell_type": "code",
      "source": [
        "df.shape"
      ],
      "metadata": {
        "colab": {
          "base_uri": "https://localhost:8080/"
        },
        "id": "vOzH7L6XCMrH",
        "outputId": "cbe4be98-73fc-491f-c4f4-0336723020ea"
      },
      "execution_count": null,
      "outputs": [
        {
          "output_type": "execute_result",
          "data": {
            "text/plain": [
              "(30000, 24)"
            ]
          },
          "metadata": {},
          "execution_count": 13
        }
      ]
    },
    {
      "cell_type": "code",
      "source": [
        "pct_rows=0.80\n",
        "df_train, df_test = df.split_frame([pct_rows])"
      ],
      "metadata": {
        "id": "LYgflwWcCRvD"
      },
      "execution_count": null,
      "outputs": []
    },
    {
      "cell_type": "code",
      "source": [
        "print(df_train.shape)\n",
        "print(df_test.shape)"
      ],
      "metadata": {
        "colab": {
          "base_uri": "https://localhost:8080/"
        },
        "id": "OViPl0mbCU9V",
        "outputId": "94c2f336-274f-4213-ac38-18e6422fb1b9"
      },
      "execution_count": null,
      "outputs": [
        {
          "output_type": "stream",
          "name": "stdout",
          "text": [
            "(24064, 24)\n",
            "(5936, 24)\n"
          ]
        }
      ]
    },
    {
      "cell_type": "code",
      "source": [
        "df_train.head()"
      ],
      "metadata": {
        "colab": {
          "base_uri": "https://localhost:8080/",
          "height": 409
        },
        "id": "RpvTIHC_Cbex",
        "outputId": "b10b73c2-fed9-4064-f5e4-0a3240c478b3"
      },
      "execution_count": null,
      "outputs": [
        {
          "output_type": "execute_result",
          "data": {
            "text/plain": [
              "  LIMIT_BAL    SEX    EDUCATION    MARRIAGE    AGE    PAY_1    PAY_2    PAY_3    PAY_4    PAY_5    PAY_6    BILL_AMT1    BILL_AMT2    BILL_AMT3    BILL_AMT4    BILL_AMT5    BILL_AMT6    PAY_AMT1    PAY_AMT2    PAY_AMT3    PAY_AMT4    PAY_AMT5    PAY_AMT6    def_pay\n",
              "-----------  -----  -----------  ----------  -----  -------  -------  -------  -------  -------  -------  -----------  -----------  -----------  -----------  -----------  -----------  ----------  ----------  ----------  ----------  ----------  ----------  ---------\n",
              "      20000      2            2           1     24        2        2       -1       -1       -2       -2         3913         3102          689            0            0            0           0         689           0           0           0           0          1\n",
              "      90000      2            2           2     34        0        0        0        0        0        0        29239        14027        13559        14331        14948        15549        1518        1500        1000        1000        1000        5000          0\n",
              "      50000      2            2           1     37        0        0        0        0        0        0        46990        48233        49291        28314        28959        29547        2000        2019        1200        1100        1069        1000          0\n",
              "      50000      1            1           2     37        0        0        0        0        0        0        64400        57069        57608        19394        19619        20024        2500        1815         657        1000        1000         800          0\n",
              "     500000      1            1           2     29        0        0        0        0        0        0       367965       412023       445007       542653       483003       473944       55000       40000       38000       20239       13750       13770          0\n",
              "     100000      2            2           2     23        0       -1       -1        0        0       -1        11876          380          601          221         -159          567         380         601           0         581        1687        1542          0\n",
              "     140000      2            3           1     28        0        0        2        0        0        0        11285        14096        12108        12211        11793         3719        3329           0         432        1000        1000        1000          0\n",
              "      20000      1            3           2     35       -2       -2       -2       -2       -1       -1            0            0            0            0        13007        13912           0           0           0       13007        1122           0          0\n",
              "     200000      2            3           2     34        0        0        2        0        0       -1        11073         9787         5535         2513         1828         3731        2306          12          50         300        3738          66          0\n",
              "     260000      2            1           2     51       -1       -1       -1       -1       -1        2        12261        21670         9966         8517        22287        13668       21818        9966        8583       22301           0        3640          0\n",
              "[10 rows x 24 columns]\n"
            ],
            "text/html": [
              "<table class='dataframe'>\n",
              "<thead>\n",
              "<tr><th style=\"text-align: right;\">  LIMIT_BAL</th><th style=\"text-align: right;\">  SEX</th><th style=\"text-align: right;\">  EDUCATION</th><th style=\"text-align: right;\">  MARRIAGE</th><th style=\"text-align: right;\">  AGE</th><th style=\"text-align: right;\">  PAY_1</th><th style=\"text-align: right;\">  PAY_2</th><th style=\"text-align: right;\">  PAY_3</th><th style=\"text-align: right;\">  PAY_4</th><th style=\"text-align: right;\">  PAY_5</th><th style=\"text-align: right;\">  PAY_6</th><th style=\"text-align: right;\">  BILL_AMT1</th><th style=\"text-align: right;\">  BILL_AMT2</th><th style=\"text-align: right;\">  BILL_AMT3</th><th style=\"text-align: right;\">  BILL_AMT4</th><th style=\"text-align: right;\">  BILL_AMT5</th><th style=\"text-align: right;\">  BILL_AMT6</th><th style=\"text-align: right;\">  PAY_AMT1</th><th style=\"text-align: right;\">  PAY_AMT2</th><th style=\"text-align: right;\">  PAY_AMT3</th><th style=\"text-align: right;\">  PAY_AMT4</th><th style=\"text-align: right;\">  PAY_AMT5</th><th style=\"text-align: right;\">  PAY_AMT6</th><th style=\"text-align: right;\">  def_pay</th></tr>\n",
              "</thead>\n",
              "<tbody>\n",
              "<tr><td style=\"text-align: right;\">      20000</td><td style=\"text-align: right;\">    2</td><td style=\"text-align: right;\">          2</td><td style=\"text-align: right;\">         1</td><td style=\"text-align: right;\">   24</td><td style=\"text-align: right;\">      2</td><td style=\"text-align: right;\">      2</td><td style=\"text-align: right;\">     -1</td><td style=\"text-align: right;\">     -1</td><td style=\"text-align: right;\">     -2</td><td style=\"text-align: right;\">     -2</td><td style=\"text-align: right;\">       3913</td><td style=\"text-align: right;\">       3102</td><td style=\"text-align: right;\">        689</td><td style=\"text-align: right;\">          0</td><td style=\"text-align: right;\">          0</td><td style=\"text-align: right;\">          0</td><td style=\"text-align: right;\">         0</td><td style=\"text-align: right;\">       689</td><td style=\"text-align: right;\">         0</td><td style=\"text-align: right;\">         0</td><td style=\"text-align: right;\">         0</td><td style=\"text-align: right;\">         0</td><td style=\"text-align: right;\">        1</td></tr>\n",
              "<tr><td style=\"text-align: right;\">      90000</td><td style=\"text-align: right;\">    2</td><td style=\"text-align: right;\">          2</td><td style=\"text-align: right;\">         2</td><td style=\"text-align: right;\">   34</td><td style=\"text-align: right;\">      0</td><td style=\"text-align: right;\">      0</td><td style=\"text-align: right;\">      0</td><td style=\"text-align: right;\">      0</td><td style=\"text-align: right;\">      0</td><td style=\"text-align: right;\">      0</td><td style=\"text-align: right;\">      29239</td><td style=\"text-align: right;\">      14027</td><td style=\"text-align: right;\">      13559</td><td style=\"text-align: right;\">      14331</td><td style=\"text-align: right;\">      14948</td><td style=\"text-align: right;\">      15549</td><td style=\"text-align: right;\">      1518</td><td style=\"text-align: right;\">      1500</td><td style=\"text-align: right;\">      1000</td><td style=\"text-align: right;\">      1000</td><td style=\"text-align: right;\">      1000</td><td style=\"text-align: right;\">      5000</td><td style=\"text-align: right;\">        0</td></tr>\n",
              "<tr><td style=\"text-align: right;\">      50000</td><td style=\"text-align: right;\">    2</td><td style=\"text-align: right;\">          2</td><td style=\"text-align: right;\">         1</td><td style=\"text-align: right;\">   37</td><td style=\"text-align: right;\">      0</td><td style=\"text-align: right;\">      0</td><td style=\"text-align: right;\">      0</td><td style=\"text-align: right;\">      0</td><td style=\"text-align: right;\">      0</td><td style=\"text-align: right;\">      0</td><td style=\"text-align: right;\">      46990</td><td style=\"text-align: right;\">      48233</td><td style=\"text-align: right;\">      49291</td><td style=\"text-align: right;\">      28314</td><td style=\"text-align: right;\">      28959</td><td style=\"text-align: right;\">      29547</td><td style=\"text-align: right;\">      2000</td><td style=\"text-align: right;\">      2019</td><td style=\"text-align: right;\">      1200</td><td style=\"text-align: right;\">      1100</td><td style=\"text-align: right;\">      1069</td><td style=\"text-align: right;\">      1000</td><td style=\"text-align: right;\">        0</td></tr>\n",
              "<tr><td style=\"text-align: right;\">      50000</td><td style=\"text-align: right;\">    1</td><td style=\"text-align: right;\">          1</td><td style=\"text-align: right;\">         2</td><td style=\"text-align: right;\">   37</td><td style=\"text-align: right;\">      0</td><td style=\"text-align: right;\">      0</td><td style=\"text-align: right;\">      0</td><td style=\"text-align: right;\">      0</td><td style=\"text-align: right;\">      0</td><td style=\"text-align: right;\">      0</td><td style=\"text-align: right;\">      64400</td><td style=\"text-align: right;\">      57069</td><td style=\"text-align: right;\">      57608</td><td style=\"text-align: right;\">      19394</td><td style=\"text-align: right;\">      19619</td><td style=\"text-align: right;\">      20024</td><td style=\"text-align: right;\">      2500</td><td style=\"text-align: right;\">      1815</td><td style=\"text-align: right;\">       657</td><td style=\"text-align: right;\">      1000</td><td style=\"text-align: right;\">      1000</td><td style=\"text-align: right;\">       800</td><td style=\"text-align: right;\">        0</td></tr>\n",
              "<tr><td style=\"text-align: right;\">     500000</td><td style=\"text-align: right;\">    1</td><td style=\"text-align: right;\">          1</td><td style=\"text-align: right;\">         2</td><td style=\"text-align: right;\">   29</td><td style=\"text-align: right;\">      0</td><td style=\"text-align: right;\">      0</td><td style=\"text-align: right;\">      0</td><td style=\"text-align: right;\">      0</td><td style=\"text-align: right;\">      0</td><td style=\"text-align: right;\">      0</td><td style=\"text-align: right;\">     367965</td><td style=\"text-align: right;\">     412023</td><td style=\"text-align: right;\">     445007</td><td style=\"text-align: right;\">     542653</td><td style=\"text-align: right;\">     483003</td><td style=\"text-align: right;\">     473944</td><td style=\"text-align: right;\">     55000</td><td style=\"text-align: right;\">     40000</td><td style=\"text-align: right;\">     38000</td><td style=\"text-align: right;\">     20239</td><td style=\"text-align: right;\">     13750</td><td style=\"text-align: right;\">     13770</td><td style=\"text-align: right;\">        0</td></tr>\n",
              "<tr><td style=\"text-align: right;\">     100000</td><td style=\"text-align: right;\">    2</td><td style=\"text-align: right;\">          2</td><td style=\"text-align: right;\">         2</td><td style=\"text-align: right;\">   23</td><td style=\"text-align: right;\">      0</td><td style=\"text-align: right;\">     -1</td><td style=\"text-align: right;\">     -1</td><td style=\"text-align: right;\">      0</td><td style=\"text-align: right;\">      0</td><td style=\"text-align: right;\">     -1</td><td style=\"text-align: right;\">      11876</td><td style=\"text-align: right;\">        380</td><td style=\"text-align: right;\">        601</td><td style=\"text-align: right;\">        221</td><td style=\"text-align: right;\">       -159</td><td style=\"text-align: right;\">        567</td><td style=\"text-align: right;\">       380</td><td style=\"text-align: right;\">       601</td><td style=\"text-align: right;\">         0</td><td style=\"text-align: right;\">       581</td><td style=\"text-align: right;\">      1687</td><td style=\"text-align: right;\">      1542</td><td style=\"text-align: right;\">        0</td></tr>\n",
              "<tr><td style=\"text-align: right;\">     140000</td><td style=\"text-align: right;\">    2</td><td style=\"text-align: right;\">          3</td><td style=\"text-align: right;\">         1</td><td style=\"text-align: right;\">   28</td><td style=\"text-align: right;\">      0</td><td style=\"text-align: right;\">      0</td><td style=\"text-align: right;\">      2</td><td style=\"text-align: right;\">      0</td><td style=\"text-align: right;\">      0</td><td style=\"text-align: right;\">      0</td><td style=\"text-align: right;\">      11285</td><td style=\"text-align: right;\">      14096</td><td style=\"text-align: right;\">      12108</td><td style=\"text-align: right;\">      12211</td><td style=\"text-align: right;\">      11793</td><td style=\"text-align: right;\">       3719</td><td style=\"text-align: right;\">      3329</td><td style=\"text-align: right;\">         0</td><td style=\"text-align: right;\">       432</td><td style=\"text-align: right;\">      1000</td><td style=\"text-align: right;\">      1000</td><td style=\"text-align: right;\">      1000</td><td style=\"text-align: right;\">        0</td></tr>\n",
              "<tr><td style=\"text-align: right;\">      20000</td><td style=\"text-align: right;\">    1</td><td style=\"text-align: right;\">          3</td><td style=\"text-align: right;\">         2</td><td style=\"text-align: right;\">   35</td><td style=\"text-align: right;\">     -2</td><td style=\"text-align: right;\">     -2</td><td style=\"text-align: right;\">     -2</td><td style=\"text-align: right;\">     -2</td><td style=\"text-align: right;\">     -1</td><td style=\"text-align: right;\">     -1</td><td style=\"text-align: right;\">          0</td><td style=\"text-align: right;\">          0</td><td style=\"text-align: right;\">          0</td><td style=\"text-align: right;\">          0</td><td style=\"text-align: right;\">      13007</td><td style=\"text-align: right;\">      13912</td><td style=\"text-align: right;\">         0</td><td style=\"text-align: right;\">         0</td><td style=\"text-align: right;\">         0</td><td style=\"text-align: right;\">     13007</td><td style=\"text-align: right;\">      1122</td><td style=\"text-align: right;\">         0</td><td style=\"text-align: right;\">        0</td></tr>\n",
              "<tr><td style=\"text-align: right;\">     200000</td><td style=\"text-align: right;\">    2</td><td style=\"text-align: right;\">          3</td><td style=\"text-align: right;\">         2</td><td style=\"text-align: right;\">   34</td><td style=\"text-align: right;\">      0</td><td style=\"text-align: right;\">      0</td><td style=\"text-align: right;\">      2</td><td style=\"text-align: right;\">      0</td><td style=\"text-align: right;\">      0</td><td style=\"text-align: right;\">     -1</td><td style=\"text-align: right;\">      11073</td><td style=\"text-align: right;\">       9787</td><td style=\"text-align: right;\">       5535</td><td style=\"text-align: right;\">       2513</td><td style=\"text-align: right;\">       1828</td><td style=\"text-align: right;\">       3731</td><td style=\"text-align: right;\">      2306</td><td style=\"text-align: right;\">        12</td><td style=\"text-align: right;\">        50</td><td style=\"text-align: right;\">       300</td><td style=\"text-align: right;\">      3738</td><td style=\"text-align: right;\">        66</td><td style=\"text-align: right;\">        0</td></tr>\n",
              "<tr><td style=\"text-align: right;\">     260000</td><td style=\"text-align: right;\">    2</td><td style=\"text-align: right;\">          1</td><td style=\"text-align: right;\">         2</td><td style=\"text-align: right;\">   51</td><td style=\"text-align: right;\">     -1</td><td style=\"text-align: right;\">     -1</td><td style=\"text-align: right;\">     -1</td><td style=\"text-align: right;\">     -1</td><td style=\"text-align: right;\">     -1</td><td style=\"text-align: right;\">      2</td><td style=\"text-align: right;\">      12261</td><td style=\"text-align: right;\">      21670</td><td style=\"text-align: right;\">       9966</td><td style=\"text-align: right;\">       8517</td><td style=\"text-align: right;\">      22287</td><td style=\"text-align: right;\">      13668</td><td style=\"text-align: right;\">     21818</td><td style=\"text-align: right;\">      9966</td><td style=\"text-align: right;\">      8583</td><td style=\"text-align: right;\">     22301</td><td style=\"text-align: right;\">         0</td><td style=\"text-align: right;\">      3640</td><td style=\"text-align: right;\">        0</td></tr>\n",
              "</tbody>\n",
              "</table><pre style='font-size: smaller; margin-bottom: 1em;'>[10 rows x 24 columns]</pre>"
            ]
          },
          "metadata": {},
          "execution_count": 16
        }
      ]
    },
    {
      "cell_type": "markdown",
      "source": [
        "#Train Models Using H2O's AutoML"
      ],
      "metadata": {
        "id": "aVpivQQmCg5g"
      }
    },
    {
      "cell_type": "markdown",
      "source": [
        "Set the features and target"
      ],
      "metadata": {
        "id": "YyzIPYqJCkD3"
      }
    },
    {
      "cell_type": "code",
      "source": [
        "X=df.columns\n",
        "print(X)"
      ],
      "metadata": {
        "colab": {
          "base_uri": "https://localhost:8080/"
        },
        "id": "2_L3m2KeCiNZ",
        "outputId": "cf03da93-d9d3-49b4-ae13-3214fe2b4412"
      },
      "execution_count": null,
      "outputs": [
        {
          "output_type": "stream",
          "name": "stdout",
          "text": [
            "['LIMIT_BAL', 'SEX', 'EDUCATION', 'MARRIAGE', 'AGE', 'PAY_1', 'PAY_2', 'PAY_3', 'PAY_4', 'PAY_5', 'PAY_6', 'BILL_AMT1', 'BILL_AMT2', 'BILL_AMT3', 'BILL_AMT4', 'BILL_AMT5', 'BILL_AMT6', 'PAY_AMT1', 'PAY_AMT2', 'PAY_AMT3', 'PAY_AMT4', 'PAY_AMT5', 'PAY_AMT6', 'def_pay']\n"
          ]
        }
      ]
    },
    {
      "cell_type": "markdown",
      "source": [
        "Set target and predictor variables"
      ],
      "metadata": {
        "id": "4yWX325ECtEy"
      }
    },
    {
      "cell_type": "code",
      "source": [
        "y ='def_pay'\n",
        "\n",
        "X.remove(y) \n",
        "\n",
        "print(X)"
      ],
      "metadata": {
        "colab": {
          "base_uri": "https://localhost:8080/"
        },
        "id": "uVG8tifdCtkV",
        "outputId": "7591cc5e-ef35-4509-c07f-84a8a82a9f75"
      },
      "execution_count": null,
      "outputs": [
        {
          "output_type": "stream",
          "name": "stdout",
          "text": [
            "['LIMIT_BAL', 'SEX', 'EDUCATION', 'MARRIAGE', 'AGE', 'PAY_1', 'PAY_2', 'PAY_3', 'PAY_4', 'PAY_5', 'PAY_6', 'BILL_AMT1', 'BILL_AMT2', 'BILL_AMT3', 'BILL_AMT4', 'BILL_AMT5', 'BILL_AMT6', 'PAY_AMT1', 'PAY_AMT2', 'PAY_AMT3', 'PAY_AMT4', 'PAY_AMT5', 'PAY_AMT6']\n"
          ]
        }
      ]
    },
    {
      "cell_type": "markdown",
      "source": [
        "Set up AutoML\n",
        "\n",
        "H20 AutoML will automatically perform regression or classification depedending on the target data type."
      ],
      "metadata": {
        "id": "0vQf7D4CDw1z"
      }
    },
    {
      "cell_type": "code",
      "source": [
        "aml = H2OAutoML(max_runtime_secs=run_time, seed=1)"
      ],
      "metadata": {
        "id": "1g9svDfbDyme"
      },
      "execution_count": null,
      "outputs": []
    },
    {
      "cell_type": "code",
      "source": [
        "aml.train(x=X,y=y,training_frame=df_train)"
      ],
      "metadata": {
        "colab": {
          "base_uri": "https://localhost:8080/",
          "height": 1000
        },
        "id": "8aKaovMiD6r-",
        "outputId": "38106ad7-2988-4aa2-8665-e37903210689"
      },
      "execution_count": null,
      "outputs": [
        {
          "output_type": "stream",
          "name": "stdout",
          "text": [
            "AutoML progress: |\n",
            "18:33:59.273: _response param, We have detected that your response column has only 2 unique values (0/1). If you wish to train a binary model instead of a regression model, convert your target column to categorical before training.\n",
            "\n",
            "█████████\n",
            "18:34:29.280: _response param, We have detected that your response column has only 2 unique values (0/1). If you wish to train a binary model instead of a regression model, convert your target column to categorical before training.\n",
            "\n",
            "██\n",
            "18:34:34.140: _response param, We have detected that your response column has only 2 unique values (0/1). If you wish to train a binary model instead of a regression model, convert your target column to categorical before training.\n",
            "\n",
            "███████\n",
            "18:35:01.30: _response param, We have detected that your response column has only 2 unique values (0/1). If you wish to train a binary model instead of a regression model, convert your target column to categorical before training.\n",
            "18:35:01.904: _response param, We have detected that your response column has only 2 unique values (0/1). If you wish to train a binary model instead of a regression model, convert your target column to categorical before training.\n",
            "\n",
            "████\n",
            "18:35:17.662: _response param, We have detected that your response column has only 2 unique values (0/1). If you wish to train a binary model instead of a regression model, convert your target column to categorical before training.\n",
            "\n",
            "███████\n",
            "18:35:42.357: _response param, We have detected that your response column has only 2 unique values (0/1). If you wish to train a binary model instead of a regression model, convert your target column to categorical before training.\n",
            "\n",
            "█████\n",
            "18:35:57.733: _response param, We have detected that your response column has only 2 unique values (0/1). If you wish to train a binary model instead of a regression model, convert your target column to categorical before training.\n",
            "\n",
            "███\n",
            "18:36:09.112: _response param, We have detected that your response column has only 2 unique values (0/1). If you wish to train a binary model instead of a regression model, convert your target column to categorical before training.\n",
            "\n",
            "████\n",
            "18:36:25.10: _response param, We have detected that your response column has only 2 unique values (0/1). If you wish to train a binary model instead of a regression model, convert your target column to categorical before training.\n",
            "18:36:25.841: _response param, We have detected that your response column has only 2 unique values (0/1). If you wish to train a binary model instead of a regression model, convert your target column to categorical before training.\n",
            "\n",
            "█\n",
            "18:36:26.865: _response param, We have detected that your response column has only 2 unique values (0/1). If you wish to train a binary model instead of a regression model, convert your target column to categorical before training.\n",
            "\n",
            "██\n",
            "18:36:34.871: _response param, We have detected that your response column has only 2 unique values (0/1). If you wish to train a binary model instead of a regression model, convert your target column to categorical before training.\n",
            "\n",
            "████\n",
            "18:36:49.151: _response param, We have detected that your response column has only 2 unique values (0/1). If you wish to train a binary model instead of a regression model, convert your target column to categorical before training.\n",
            "\n",
            "███\n",
            "18:36:59.812: _response param, We have detected that your response column has only 2 unique values (0/1). If you wish to train a binary model instead of a regression model, convert your target column to categorical before training.\n",
            "\n",
            "███\n",
            "18:37:12.106: _response param, We have detected that your response column has only 2 unique values (0/1). If you wish to train a binary model instead of a regression model, convert your target column to categorical before training.\n",
            "\n",
            "█\n",
            "18:37:12.816: _response param, We have detected that your response column has only 2 unique values (0/1). If you wish to train a binary model instead of a regression model, convert your target column to categorical before training.\n",
            "\n",
            "████████| (done) 100%\n"
          ]
        },
        {
          "output_type": "execute_result",
          "data": {
            "text/plain": [
              "Model Details\n",
              "=============\n",
              "H2OStackedEnsembleEstimator : Stacked Ensemble\n",
              "Model Key: StackedEnsemble_AllModels_2_AutoML_1_20221107_183359\n",
              "\n",
              "No summary for this model\n",
              "\n",
              "ModelMetricsRegressionGLM: stackedensemble\n",
              "** Reported on train data. **\n",
              "\n",
              "MSE: 0.11772132160297269\n",
              "RMSE: 0.34310540888037994\n",
              "MAE: 0.25048404528037754\n",
              "RMSLE: 0.23981257521498286\n",
              "Mean Residual Deviance: 0.11772132160297269\n",
              "R^2: 0.30178497960550754\n",
              "Null degrees of freedom: 10027\n",
              "Residual degrees of freedom: 10020\n",
              "Null deviance: 1690.992423904178\n",
              "Residual deviance: 1180.5094130346101\n",
              "AIC: 7021.975748189013\n",
              "\n",
              "ModelMetricsRegressionGLM: stackedensemble\n",
              "** Reported on cross-validation data. **\n",
              "\n",
              "MSE: 0.13312533891673212\n",
              "RMSE: 0.3648634524267018\n",
              "MAE: 0.266289156895287\n",
              "RMSLE: 0.25564837341015545\n",
              "Mean Residual Deviance: 0.13312533891673212\n",
              "R^2: 0.22314857380270203\n",
              "Null degrees of freedom: 24063\n",
              "Residual degrees of freedom: 24056\n",
              "Null deviance: 4124.024256769712\n",
              "Residual deviance: 3203.528155692242\n",
              "AIC: 19784.479297448484\n",
              "\n",
              "Cross-Validation Metrics Summary: \n",
              "                        mean      sd          cv_1_valid    cv_2_valid    cv_3_valid    cv_4_valid    cv_5_valid\n",
              "----------------------  --------  ----------  ------------  ------------  ------------  ------------  ------------\n",
              "mae                     0.266247  0.0027942   0.264693      0.263996      0.271062      0.265914      0.265571\n",
              "mean_residual_deviance  0.133108  0.00272116  0.131662      0.130525      0.137516      0.133741      0.132098\n",
              "mse                     0.133108  0.00272116  0.131662      0.130525      0.137516      0.133741      0.132098\n",
              "null_deviance           824.805   20.4386     826.32        795.959       851.481       833.029       817.235\n",
              "r2                      0.223106  0.00464958  0.228326      0.22329       0.216327      0.226273      0.221315\n",
              "residual_deviance       640.687   17.6496     637.639       618.034       666.954       644.496       636.314\n",
              "rmse                    0.364825  0.00371437  0.362853      0.361282      0.370832      0.365706      0.363452\n",
              "rmsle                   0.255626  0.00237581  0.254354      0.253891      0.259697      0.255732      0.254458\n",
              "\n",
              "[tips]\n",
              "Use `model.explain()` to inspect the model.\n",
              "--\n",
              "Use `h2o.display.toggle_user_tips()` to switch on/off this section."
            ],
            "text/html": [
              "<pre style='margin: 1em 0 1em 0;'>Model Details\n",
              "=============\n",
              "H2OStackedEnsembleEstimator : Stacked Ensemble\n",
              "Model Key: StackedEnsemble_AllModels_2_AutoML_1_20221107_183359\n",
              "\n",
              "No summary for this model</pre>\n",
              "<div style='margin: 1em 0 1em 0;'><pre style='margin: 1em 0 1em 0;'>ModelMetricsRegressionGLM: stackedensemble\n",
              "** Reported on train data. **\n",
              "\n",
              "MSE: 0.11772132160297269\n",
              "RMSE: 0.34310540888037994\n",
              "MAE: 0.25048404528037754\n",
              "RMSLE: 0.23981257521498286\n",
              "Mean Residual Deviance: 0.11772132160297269\n",
              "R^2: 0.30178497960550754\n",
              "Null degrees of freedom: 10027\n",
              "Residual degrees of freedom: 10020\n",
              "Null deviance: 1690.992423904178\n",
              "Residual deviance: 1180.5094130346101\n",
              "AIC: 7021.975748189013</pre></div>\n",
              "<div style='margin: 1em 0 1em 0;'><pre style='margin: 1em 0 1em 0;'>ModelMetricsRegressionGLM: stackedensemble\n",
              "** Reported on cross-validation data. **\n",
              "\n",
              "MSE: 0.13312533891673212\n",
              "RMSE: 0.3648634524267018\n",
              "MAE: 0.266289156895287\n",
              "RMSLE: 0.25564837341015545\n",
              "Mean Residual Deviance: 0.13312533891673212\n",
              "R^2: 0.22314857380270203\n",
              "Null degrees of freedom: 24063\n",
              "Residual degrees of freedom: 24056\n",
              "Null deviance: 4124.024256769712\n",
              "Residual deviance: 3203.528155692242\n",
              "AIC: 19784.479297448484</pre></div>\n",
              "<div style='margin: 1em 0 1em 0;'>\n",
              "<style>\n",
              "\n",
              "#h2o-table-2.h2o-container {\n",
              "  overflow-x: auto;\n",
              "}\n",
              "#h2o-table-2 .h2o-table {\n",
              "  /* width: 100%; */\n",
              "  margin-top: 1em;\n",
              "  margin-bottom: 1em;\n",
              "}\n",
              "#h2o-table-2 .h2o-table caption {\n",
              "  white-space: nowrap;\n",
              "  caption-side: top;\n",
              "  text-align: left;\n",
              "  /* margin-left: 1em; */\n",
              "  margin: 0;\n",
              "  font-size: larger;\n",
              "}\n",
              "#h2o-table-2 .h2o-table thead {\n",
              "  white-space: nowrap; \n",
              "  position: sticky;\n",
              "  top: 0;\n",
              "  box-shadow: 0 -1px inset;\n",
              "}\n",
              "#h2o-table-2 .h2o-table tbody {\n",
              "  overflow: auto;\n",
              "}\n",
              "#h2o-table-2 .h2o-table th,\n",
              "#h2o-table-2 .h2o-table td {\n",
              "  text-align: right;\n",
              "  /* border: 1px solid; */\n",
              "}\n",
              "#h2o-table-2 .h2o-table tr:nth-child(even) {\n",
              "  /* background: #F5F5F5 */\n",
              "}\n",
              "\n",
              "</style>      \n",
              "<div id=\"h2o-table-2\" class=\"h2o-container\">\n",
              "  <table class=\"h2o-table\">\n",
              "    <caption>Cross-Validation Metrics Summary: </caption>\n",
              "    <thead><tr><th></th>\n",
              "<th>mean</th>\n",
              "<th>sd</th>\n",
              "<th>cv_1_valid</th>\n",
              "<th>cv_2_valid</th>\n",
              "<th>cv_3_valid</th>\n",
              "<th>cv_4_valid</th>\n",
              "<th>cv_5_valid</th></tr></thead>\n",
              "    <tbody><tr><td>mae</td>\n",
              "<td>0.2662471</td>\n",
              "<td>0.0027942</td>\n",
              "<td>0.2646933</td>\n",
              "<td>0.2639957</td>\n",
              "<td>0.2710616</td>\n",
              "<td>0.2659142</td>\n",
              "<td>0.2655709</td></tr>\n",
              "<tr><td>mean_residual_deviance</td>\n",
              "<td>0.1331082</td>\n",
              "<td>0.0027212</td>\n",
              "<td>0.1316619</td>\n",
              "<td>0.1305246</td>\n",
              "<td>0.1375162</td>\n",
              "<td>0.1337405</td>\n",
              "<td>0.1320975</td></tr>\n",
              "<tr><td>mse</td>\n",
              "<td>0.1331082</td>\n",
              "<td>0.0027212</td>\n",
              "<td>0.1316619</td>\n",
              "<td>0.1305246</td>\n",
              "<td>0.1375162</td>\n",
              "<td>0.1337405</td>\n",
              "<td>0.1320975</td></tr>\n",
              "<tr><td>null_deviance</td>\n",
              "<td>824.8049</td>\n",
              "<td>20.438625</td>\n",
              "<td>826.3198</td>\n",
              "<td>795.95917</td>\n",
              "<td>851.4815</td>\n",
              "<td>833.0288</td>\n",
              "<td>817.235</td></tr>\n",
              "<tr><td>r2</td>\n",
              "<td>0.2231064</td>\n",
              "<td>0.0046496</td>\n",
              "<td>0.2283265</td>\n",
              "<td>0.2232903</td>\n",
              "<td>0.2163273</td>\n",
              "<td>0.2262728</td>\n",
              "<td>0.2213150</td></tr>\n",
              "<tr><td>residual_deviance</td>\n",
              "<td>640.6872</td>\n",
              "<td>17.649557</td>\n",
              "<td>637.6388</td>\n",
              "<td>618.0339</td>\n",
              "<td>666.95374</td>\n",
              "<td>644.4956</td>\n",
              "<td>636.31384</td></tr>\n",
              "<tr><td>rmse</td>\n",
              "<td>0.3648248</td>\n",
              "<td>0.0037144</td>\n",
              "<td>0.3628525</td>\n",
              "<td>0.3612819</td>\n",
              "<td>0.3708318</td>\n",
              "<td>0.3657055</td>\n",
              "<td>0.3634523</td></tr>\n",
              "<tr><td>rmsle</td>\n",
              "<td>0.2556263</td>\n",
              "<td>0.0023758</td>\n",
              "<td>0.2543544</td>\n",
              "<td>0.2538907</td>\n",
              "<td>0.2596970</td>\n",
              "<td>0.2557316</td>\n",
              "<td>0.2544575</td></tr></tbody>\n",
              "  </table>\n",
              "</div>\n",
              "</div><pre style=\"font-size: smaller; margin: 1em 0 0 0;\">\n",
              "\n",
              "[tips]\n",
              "Use `model.explain()` to inspect the model.\n",
              "--\n",
              "Use `h2o.display.toggle_user_tips()` to switch on/off this section.</pre>"
            ]
          },
          "metadata": {},
          "execution_count": 20
        }
      ]
    },
    {
      "cell_type": "code",
      "source": [
        "print(aml.leaderboard)"
      ],
      "metadata": {
        "colab": {
          "base_uri": "https://localhost:8080/"
        },
        "id": "1-WtX5ucEEOD",
        "outputId": "b2f8278c-9460-4945-a4a2-253cf49041ed"
      },
      "execution_count": null,
      "outputs": [
        {
          "output_type": "stream",
          "name": "stdout",
          "text": [
            "model_id                                                     rmse       mse       mae     rmsle    mean_residual_deviance\n",
            "StackedEnsemble_AllModels_2_AutoML_1_20221107_183359     0.364863  0.133125  0.266289  0.255648                  0.133125\n",
            "StackedEnsemble_BestOfFamily_3_AutoML_1_20221107_183359  0.365207  0.133376  0.266735  0.255813                  0.133376\n",
            "StackedEnsemble_AllModels_1_AutoML_1_20221107_183359     0.365407  0.133522  0.267133  0.256089                  0.133522\n",
            "GBM_5_AutoML_1_20221107_183359                           0.365691  0.13373   0.26846   0.25604                   0.13373\n",
            "StackedEnsemble_BestOfFamily_2_AutoML_1_20221107_183359  0.365882  0.13387   0.267887  0.256601                  0.13387\n",
            "GBM_1_AutoML_1_20221107_183359                           0.366007  0.133961  0.268854  0.25676                   0.133961\n",
            "StackedEnsemble_BestOfFamily_1_AutoML_1_20221107_183359  0.366054  0.133996  0.268132  0.256762                  0.133996\n",
            "GBM_2_AutoML_1_20221107_183359                           0.366338  0.134203  0.268964  0.256585                  0.134203\n",
            "GBM_3_AutoML_1_20221107_183359                           0.367203  0.134838  0.269216  0.25717                   0.134838\n",
            "GBM_4_AutoML_1_20221107_183359                           0.368836  0.13604   0.270547  0.258624                  0.13604\n",
            "[21 rows x 6 columns]\n",
            "\n"
          ]
        }
      ]
    },
    {
      "cell_type": "markdown",
      "source": [
        "#RMSE comparison and understanding the leader board\n",
        "\n",
        "The best models after running for a little under four minutes is around 0.005 about half of that of the 0.010 RMSE that we got our simple MLP in notebook one and a quarter of the 0.017 RMSE that we got with a simple MLP with the same independent variables.\n",
        "\n",
        "When we run for a short time, under 10 minutes, our leaderboard will be biased towards tree-based methods as the deep learners take much more time to converge. It is impossible to see deep learners in the top 500 models when we run for less than 5 minutes.\n",
        "\n",
        "We should still plot the results but before we do that let's discuss a big advantage of these models, model interpretability."
      ],
      "metadata": {
        "id": "RauV-VLraA_p"
      }
    },
    {
      "cell_type": "code",
      "source": [
        "model_index=0\n",
        "glm_index=0\n",
        "glm_model=''\n",
        "aml_leaderboard_df=aml.leaderboard.as_data_frame()\n",
        "models_dict={}\n",
        "for m in aml_leaderboard_df['model_id']:\n",
        "  models_dict[m]=model_index\n",
        "  if 'StackedEnsemble' not in m:\n",
        "    break \n",
        "  model_index=model_index+1  \n",
        "\n",
        "for m in aml_leaderboard_df['model_id']:\n",
        "  if 'GLM' in m:\n",
        "    models_dict[m]=glm_index\n",
        "    break  \n",
        "  glm_index=glm_index+1     \n",
        "models_dict"
      ],
      "metadata": {
        "colab": {
          "base_uri": "https://localhost:8080/"
        },
        "id": "1gXXEVnQaBX4",
        "outputId": "7b5c2e9b-85e1-4c89-be3c-faf1b39474b4"
      },
      "execution_count": null,
      "outputs": [
        {
          "output_type": "execute_result",
          "data": {
            "text/plain": [
              "{'StackedEnsemble_AllModels_2_AutoML_1_20221107_183359': 0,\n",
              " 'StackedEnsemble_BestOfFamily_3_AutoML_1_20221107_183359': 1,\n",
              " 'StackedEnsemble_AllModels_1_AutoML_1_20221107_183359': 2,\n",
              " 'GBM_5_AutoML_1_20221107_183359': 3,\n",
              " 'GLM_1_AutoML_1_20221107_183359': 16}"
            ]
          },
          "metadata": {},
          "execution_count": 22
        }
      ]
    },
    {
      "cell_type": "markdown",
      "source": [
        "Examine the Best Model"
      ],
      "metadata": {
        "id": "CrisQIvUaEv-"
      }
    },
    {
      "cell_type": "code",
      "source": [
        "print(model_index)\n",
        "best_model = h2o.get_model(aml.leaderboard[model_index,'model_id'])"
      ],
      "metadata": {
        "colab": {
          "base_uri": "https://localhost:8080/"
        },
        "id": "eL5ENaaraKzj",
        "outputId": "74e08b65-e1f7-4972-e02d-b406c9044b0a"
      },
      "execution_count": null,
      "outputs": [
        {
          "output_type": "stream",
          "name": "stdout",
          "text": [
            "3\n"
          ]
        }
      ]
    },
    {
      "cell_type": "code",
      "source": [
        "best_model.algo"
      ],
      "metadata": {
        "colab": {
          "base_uri": "https://localhost:8080/",
          "height": 35
        },
        "id": "oPCIstDiaTRO",
        "outputId": "9e559f02-66e6-436f-adbb-4f9280bbb264"
      },
      "execution_count": null,
      "outputs": [
        {
          "output_type": "execute_result",
          "data": {
            "text/plain": [
              "'gbm'"
            ],
            "application/vnd.google.colaboratory.intrinsic+json": {
              "type": "string"
            }
          },
          "metadata": {},
          "execution_count": 24
        }
      ]
    },
    {
      "cell_type": "markdown",
      "source": [
        "#Variable importance plot\n",
        "\n",
        "Variable importance plots in tree-based methods provides a list of the most significant variables in descending order by a measure of the information in each variable. Remember that tree calculates the information content of each variable. A variable importance plot is just a bar chart of each variables information content in decreasing order.\n",
        "\n",
        "It can show actual information estimates or standardized plots like the one below. In a standardized plot the most important variable is always given a value of 1.0. The other variables scores represent their percentage of information relative to the most important variable.\n",
        "\n",
        "Notice that some varibales have almost no information content. Knowing this allows for feature selection by removing unimportant variables. This makes a model more effecient to run and helps prevent overfitting as the unimportant variables can fit noise and alter prediction efficiency."
      ],
      "metadata": {
        "id": "lXsdDRZ2adqm"
      }
    },
    {
      "cell_type": "code",
      "source": [
        "if best_model.algo in ['gbm','drf','xrt','xgboost']:\n",
        "  best_model.varimp_plot()"
      ],
      "metadata": {
        "colab": {
          "base_uri": "https://localhost:8080/",
          "height": 629
        },
        "id": "claGFsgAaeDl",
        "outputId": "3b77a4e4-c1b6-4f67-9d1e-4ad7f16f3957"
      },
      "execution_count": null,
      "outputs": [
        {
          "output_type": "display_data",
          "data": {
            "text/plain": [
              "<Figure size 1008x720 with 1 Axes>"
            ],
            "image/png": "[encoded data removed]"
          },
          "metadata": {
            "needs_background": "light"
          }
        },
        {
          "output_type": "display_data",
          "data": {
            "text/plain": [
              "<Figure size 432x288 with 0 Axes>"
            ]
          },
          "metadata": {}
        }
      ]
    },
    {
      "cell_type": "code",
      "source": [
        "if glm_index is not 0:\n",
        "  print(glm_index)\n",
        "  glm_model=h2o.get_model(aml.leaderboard[glm_index,'model_id'])\n",
        "  print(glm_model.algo) \n",
        "  glm_model.std_coef_plot()"
      ],
      "metadata": {
        "colab": {
          "base_uri": "https://localhost:8080/",
          "height": 647
        },
        "id": "rrZzJCzTa9FW",
        "outputId": "00cf9a0f-1f49-4073-cfc4-e852941b90bb"
      },
      "execution_count": null,
      "outputs": [
        {
          "output_type": "stream",
          "name": "stdout",
          "text": [
            "16\n",
            "glm\n"
          ]
        },
        {
          "output_type": "display_data",
          "data": {
            "text/plain": [
              "<Figure size 1008x720 with 1 Axes>"
            ],
            "image/png": "[encoded data removed]"
          },
          "metadata": {
            "needs_background": "light"
          }
        }
      ]
    },
    {
      "cell_type": "code",
      "source": [
        "print(best_model.rmse(train = True))"
      ],
      "metadata": {
        "colab": {
          "base_uri": "https://localhost:8080/"
        },
        "id": "aKD4DC-dbGD0",
        "outputId": "07698f66-b5e4-4ed0-b85b-aff584032651"
      },
      "execution_count": null,
      "outputs": [
        {
          "output_type": "stream",
          "name": "stdout",
          "text": [
            "0.3497913650124223\n"
          ]
        }
      ]
    },
    {
      "cell_type": "code",
      "source": [
        "def model_performance_stats(perf):\n",
        "    d={}\n",
        "    try:    \n",
        "      d['mse']=perf.mse()\n",
        "    except:\n",
        "      pass      \n",
        "    try:    \n",
        "      d['rmse']=perf.rmse() \n",
        "    except:\n",
        "      pass      \n",
        "    try:    \n",
        "      d['null_degrees_of_freedom']=perf.null_degrees_of_freedom()\n",
        "    except:\n",
        "      pass      \n",
        "    try:    \n",
        "      d['residual_degrees_of_freedom']=perf.residual_degrees_of_freedom()\n",
        "    except:\n",
        "      pass      \n",
        "    try:    \n",
        "      d['residual_deviance']=perf.residual_deviance() \n",
        "    except:\n",
        "      pass      \n",
        "    try:    \n",
        "      d['null_deviance']=perf.null_deviance() \n",
        "    except:\n",
        "      pass      \n",
        "    try:    \n",
        "      d['aic']=perf.aic() \n",
        "    except:\n",
        "      pass      \n",
        "    try:\n",
        "      d['logloss']=perf.logloss() \n",
        "    except:\n",
        "      pass    \n",
        "    try:\n",
        "      d['auc']=perf.auc()\n",
        "    except:\n",
        "      pass  \n",
        "    try:\n",
        "      d['gini']=perf.gini()\n",
        "    except:\n",
        "      pass    \n",
        "    return d"
      ],
      "metadata": {
        "id": "RQwZxJOubNs9"
      },
      "execution_count": null,
      "outputs": []
    },
    {
      "cell_type": "code",
      "source": [
        "mod_perf=best_model.model_performance(df_test)\n",
        "stats_test={}\n",
        "stats_test=model_performance_stats(mod_perf)\n",
        "stats_test"
      ],
      "metadata": {
        "colab": {
          "base_uri": "https://localhost:8080/"
        },
        "id": "xORKVc69bRdA",
        "outputId": "788cc0d6-7b2a-491c-e4ee-719cccb9ca26"
      },
      "execution_count": null,
      "outputs": [
        {
          "output_type": "execute_result",
          "data": {
            "text/plain": [
              "{'mse': 0.13684225718600493,\n",
              " 'rmse': 0.36992196094041907,\n",
              " 'null_degrees_of_freedom': None,\n",
              " 'residual_degrees_of_freedom': None,\n",
              " 'residual_deviance': None,\n",
              " 'null_deviance': None}"
            ]
          },
          "metadata": {},
          "execution_count": 30
        }
      ]
    },
    {
      "cell_type": "code",
      "source": [
        "predictions = best_model.predict(df_test)"
      ],
      "metadata": {
        "colab": {
          "base_uri": "https://localhost:8080/"
        },
        "id": "veUUTQLxbWYV",
        "outputId": "58a42fbc-6e36-4e09-960e-480643be4814"
      },
      "execution_count": null,
      "outputs": [
        {
          "output_type": "stream",
          "name": "stdout",
          "text": [
            "gbm prediction progress: |███████████████████████████████████████████████████████| (done) 100%\n"
          ]
        }
      ]
    },
    {
      "cell_type": "code",
      "source": [
        "y_pred=h2o.as_list(predictions)\n",
        "y_pred[0:5]"
      ],
      "metadata": {
        "colab": {
          "base_uri": "https://localhost:8080/",
          "height": 206
        },
        "id": "cUZxi3DMbaEr",
        "outputId": "17032033-65f0-41f4-a9b1-caaf3c073e86"
      },
      "execution_count": null,
      "outputs": [
        {
          "output_type": "execute_result",
          "data": {
            "text/plain": [
              "    predict\n",
              "0  0.457920\n",
              "1  0.101056\n",
              "2  0.048717\n",
              "3  0.135278\n",
              "4  0.291813"
            ],
            "text/html": [
              "\n",
              "  <div id=\"df-a4bd2eb2-d739-4bd3-ac3a-1f813cd3d67d\">\n",
              "    <div class=\"colab-df-container\">\n",
              "      <div>\n",
              "<style scoped>\n",
              "    .dataframe tbody tr th:only-of-type {\n",
              "        vertical-align: middle;\n",
              "    }\n",
              "\n",
              "    .dataframe tbody tr th {\n",
              "        vertical-align: top;\n",
              "    }\n",
              "\n",
              "    .dataframe thead th {\n",
              "        text-align: right;\n",
              "    }\n",
              "</style>\n",
              "<table border=\"1\" class=\"dataframe\">\n",
              "  <thead>\n",
              "    <tr style=\"text-align: right;\">\n",
              "      <th></th>\n",
              "      <th>predict</th>\n",
              "    </tr>\n",
              "  </thead>\n",
              "  <tbody>\n",
              "    <tr>\n",
              "      <th>0</th>\n",
              "      <td>0.457920</td>\n",
              "    </tr>\n",
              "    <tr>\n",
              "      <th>1</th>\n",
              "      <td>0.101056</td>\n",
              "    </tr>\n",
              "    <tr>\n",
              "      <th>2</th>\n",
              "      <td>0.048717</td>\n",
              "    </tr>\n",
              "    <tr>\n",
              "      <th>3</th>\n",
              "      <td>0.135278</td>\n",
              "    </tr>\n",
              "    <tr>\n",
              "      <th>4</th>\n",
              "      <td>0.291813</td>\n",
              "    </tr>\n",
              "  </tbody>\n",
              "</table>\n",
              "</div>\n",
              "      <button class=\"colab-df-convert\" onclick=\"convertToInteractive('df-a4bd2eb2-d739-4bd3-ac3a-1f813cd3d67d')\"\n",
              "              title=\"Convert this dataframe to an interactive table.\"\n",
              "              style=\"display:none;\">\n",
              "        \n",
              "  <svg xmlns=\"http://www.w3.org/2000/svg\" height=\"24px\"viewBox=\"0 0 24 24\"\n",
              "       width=\"24px\">\n",
              "    <path d=\"M0 0h24v24H0V0z\" fill=\"none\"/>\n",
              "    <path d=\"M18.56 5.44l.94 2.06.94-2.06 2.06-.94-2.06-.94-.94-2.06-.94 2.06-2.06.94zm-11 1L8.5 8.5l.94-2.06 2.06-.94-2.06-.94L8.5 2.5l-.94 2.06-2.06.94zm10 10l.94 2.06.94-2.06 2.06-.94-2.06-.94-.94-2.06-.94 2.06-2.06.94z\"/><path d=\"M17.41 7.96l-1.37-1.37c-.4-.4-.92-.59-1.43-.59-.52 0-1.04.2-1.43.59L10.3 9.45l-7.72 7.72c-.78.78-.78 2.05 0 2.83L4 21.41c.39.39.9.59 1.41.59.51 0 1.02-.2 1.41-.59l7.78-7.78 2.81-2.81c.8-.78.8-2.07 0-2.86zM5.41 20L4 18.59l7.72-7.72 1.47 1.35L5.41 20z\"/>\n",
              "  </svg>\n",
              "      </button>\n",
              "      \n",
              "  <style>\n",
              "    .colab-df-container {\n",
              "      display:flex;\n",
              "      flex-wrap:wrap;\n",
              "      gap: 12px;\n",
              "    }\n",
              "\n",
              "    .colab-df-convert {\n",
              "      background-color: #E8F0FE;\n",
              "      border: none;\n",
              "      border-radius: 50%;\n",
              "      cursor: pointer;\n",
              "      display: none;\n",
              "      fill: #1967D2;\n",
              "      height: 32px;\n",
              "      padding: 0 0 0 0;\n",
              "      width: 32px;\n",
              "    }\n",
              "\n",
              "    .colab-df-convert:hover {\n",
              "      background-color: #E2EBFA;\n",
              "      box-shadow: 0px 1px 2px rgba(60, 64, 67, 0.3), 0px 1px 3px 1px rgba(60, 64, 67, 0.15);\n",
              "      fill: #174EA6;\n",
              "    }\n",
              "\n",
              "    [theme=dark] .colab-df-convert {\n",
              "      background-color: #3B4455;\n",
              "      fill: #D2E3FC;\n",
              "    }\n",
              "\n",
              "    [theme=dark] .colab-df-convert:hover {\n",
              "      background-color: #434B5C;\n",
              "      box-shadow: 0px 1px 3px 1px rgba(0, 0, 0, 0.15);\n",
              "      filter: drop-shadow(0px 1px 2px rgba(0, 0, 0, 0.3));\n",
              "      fill: #FFFFFF;\n",
              "    }\n",
              "  </style>\n",
              "\n",
              "      <script>\n",
              "        const buttonEl =\n",
              "          document.querySelector('#df-a4bd2eb2-d739-4bd3-ac3a-1f813cd3d67d button.colab-df-convert');\n",
              "        buttonEl.style.display =\n",
              "          google.colab.kernel.accessAllowed ? 'block' : 'none';\n",
              "\n",
              "        async function convertToInteractive(key) {\n",
              "          const element = document.querySelector('#df-a4bd2eb2-d739-4bd3-ac3a-1f813cd3d67d');\n",
              "          const dataTable =\n",
              "            await google.colab.kernel.invokeFunction('convertToInteractive',\n",
              "                                                     [key], {});\n",
              "          if (!dataTable) return;\n",
              "\n",
              "          const docLinkHtml = 'Like what you see? Visit the ' +\n",
              "            '<a target=\"_blank\" href=https://colab.research.google.com/notebooks/data_table.ipynb>data table notebook</a>'\n",
              "            + ' to learn more about interactive tables.';\n",
              "          element.innerHTML = '';\n",
              "          dataTable['output_type'] = 'display_data';\n",
              "          await google.colab.output.renderOutput(dataTable, element);\n",
              "          const docLink = document.createElement('div');\n",
              "          docLink.innerHTML = docLinkHtml;\n",
              "          element.appendChild(docLink);\n",
              "        }\n",
              "      </script>\n",
              "    </div>\n",
              "  </div>\n",
              "  "
            ]
          },
          "metadata": {},
          "execution_count": 36
        }
      ]
    },
    {
      "cell_type": "code",
      "source": [
        "y_test=h2o.as_list(df_test[y])\n",
        "y_test[0:5]"
      ],
      "metadata": {
        "colab": {
          "base_uri": "https://localhost:8080/",
          "height": 206
        },
        "id": "cq_4AUYhbg5Y",
        "outputId": "b3c25b2c-41ac-47ae-d6a8-02be6870c41d"
      },
      "execution_count": null,
      "outputs": [
        {
          "output_type": "execute_result",
          "data": {
            "text/plain": [
              "   def_pay\n",
              "0        1\n",
              "1        0\n",
              "2        0\n",
              "3        0\n",
              "4        1"
            ],
            "text/html": [
              "\n",
              "  <div id=\"df-007a6e54-83b7-4830-a4ee-df4823181bc8\">\n",
              "    <div class=\"colab-df-container\">\n",
              "      <div>\n",
              "<style scoped>\n",
              "    .dataframe tbody tr th:only-of-type {\n",
              "        vertical-align: middle;\n",
              "    }\n",
              "\n",
              "    .dataframe tbody tr th {\n",
              "        vertical-align: top;\n",
              "    }\n",
              "\n",
              "    .dataframe thead th {\n",
              "        text-align: right;\n",
              "    }\n",
              "</style>\n",
              "<table border=\"1\" class=\"dataframe\">\n",
              "  <thead>\n",
              "    <tr style=\"text-align: right;\">\n",
              "      <th></th>\n",
              "      <th>def_pay</th>\n",
              "    </tr>\n",
              "  </thead>\n",
              "  <tbody>\n",
              "    <tr>\n",
              "      <th>0</th>\n",
              "      <td>1</td>\n",
              "    </tr>\n",
              "    <tr>\n",
              "      <th>1</th>\n",
              "      <td>0</td>\n",
              "    </tr>\n",
              "    <tr>\n",
              "      <th>2</th>\n",
              "      <td>0</td>\n",
              "    </tr>\n",
              "    <tr>\n",
              "      <th>3</th>\n",
              "      <td>0</td>\n",
              "    </tr>\n",
              "    <tr>\n",
              "      <th>4</th>\n",
              "      <td>1</td>\n",
              "    </tr>\n",
              "  </tbody>\n",
              "</table>\n",
              "</div>\n",
              "      <button class=\"colab-df-convert\" onclick=\"convertToInteractive('df-007a6e54-83b7-4830-a4ee-df4823181bc8')\"\n",
              "              title=\"Convert this dataframe to an interactive table.\"\n",
              "              style=\"display:none;\">\n",
              "        \n",
              "  <svg xmlns=\"http://www.w3.org/2000/svg\" height=\"24px\"viewBox=\"0 0 24 24\"\n",
              "       width=\"24px\">\n",
              "    <path d=\"M0 0h24v24H0V0z\" fill=\"none\"/>\n",
              "    <path d=\"M18.56 5.44l.94 2.06.94-2.06 2.06-.94-2.06-.94-.94-2.06-.94 2.06-2.06.94zm-11 1L8.5 8.5l.94-2.06 2.06-.94-2.06-.94L8.5 2.5l-.94 2.06-2.06.94zm10 10l.94 2.06.94-2.06 2.06-.94-2.06-.94-.94-2.06-.94 2.06-2.06.94z\"/><path d=\"M17.41 7.96l-1.37-1.37c-.4-.4-.92-.59-1.43-.59-.52 0-1.04.2-1.43.59L10.3 9.45l-7.72 7.72c-.78.78-.78 2.05 0 2.83L4 21.41c.39.39.9.59 1.41.59.51 0 1.02-.2 1.41-.59l7.78-7.78 2.81-2.81c.8-.78.8-2.07 0-2.86zM5.41 20L4 18.59l7.72-7.72 1.47 1.35L5.41 20z\"/>\n",
              "  </svg>\n",
              "      </button>\n",
              "      \n",
              "  <style>\n",
              "    .colab-df-container {\n",
              "      display:flex;\n",
              "      flex-wrap:wrap;\n",
              "      gap: 12px;\n",
              "    }\n",
              "\n",
              "    .colab-df-convert {\n",
              "      background-color: #E8F0FE;\n",
              "      border: none;\n",
              "      border-radius: 50%;\n",
              "      cursor: pointer;\n",
              "      display: none;\n",
              "      fill: #1967D2;\n",
              "      height: 32px;\n",
              "      padding: 0 0 0 0;\n",
              "      width: 32px;\n",
              "    }\n",
              "\n",
              "    .colab-df-convert:hover {\n",
              "      background-color: #E2EBFA;\n",
              "      box-shadow: 0px 1px 2px rgba(60, 64, 67, 0.3), 0px 1px 3px 1px rgba(60, 64, 67, 0.15);\n",
              "      fill: #174EA6;\n",
              "    }\n",
              "\n",
              "    [theme=dark] .colab-df-convert {\n",
              "      background-color: #3B4455;\n",
              "      fill: #D2E3FC;\n",
              "    }\n",
              "\n",
              "    [theme=dark] .colab-df-convert:hover {\n",
              "      background-color: #434B5C;\n",
              "      box-shadow: 0px 1px 3px 1px rgba(0, 0, 0, 0.15);\n",
              "      filter: drop-shadow(0px 1px 2px rgba(0, 0, 0, 0.3));\n",
              "      fill: #FFFFFF;\n",
              "    }\n",
              "  </style>\n",
              "\n",
              "      <script>\n",
              "        const buttonEl =\n",
              "          document.querySelector('#df-007a6e54-83b7-4830-a4ee-df4823181bc8 button.colab-df-convert');\n",
              "        buttonEl.style.display =\n",
              "          google.colab.kernel.accessAllowed ? 'block' : 'none';\n",
              "\n",
              "        async function convertToInteractive(key) {\n",
              "          const element = document.querySelector('#df-007a6e54-83b7-4830-a4ee-df4823181bc8');\n",
              "          const dataTable =\n",
              "            await google.colab.kernel.invokeFunction('convertToInteractive',\n",
              "                                                     [key], {});\n",
              "          if (!dataTable) return;\n",
              "\n",
              "          const docLinkHtml = 'Like what you see? Visit the ' +\n",
              "            '<a target=\"_blank\" href=https://colab.research.google.com/notebooks/data_table.ipynb>data table notebook</a>'\n",
              "            + ' to learn more about interactive tables.';\n",
              "          element.innerHTML = '';\n",
              "          dataTable['output_type'] = 'display_data';\n",
              "          await google.colab.output.renderOutput(dataTable, element);\n",
              "          const docLink = document.createElement('div');\n",
              "          docLink.innerHTML = docLinkHtml;\n",
              "          element.appendChild(docLink);\n",
              "        }\n",
              "      </script>\n",
              "    </div>\n",
              "  </div>\n",
              "  "
            ]
          },
          "metadata": {},
          "execution_count": 80
        }
      ]
    },
    {
      "cell_type": "markdown",
      "source": [
        "#Partial Dependence Plots\n",
        "Partial dependence plots (PDP) show the dependence between the target response and a set of features, marginalizing over the values of all other features. Intuitively, we can interpret the partial dependence as the expected target response as a function of the feature.\n",
        "\n",
        "The partial dependence plot gives a graphical depiction of the marginal effect of a variable on the response. The effect of a variable is measured in change in the mean response. This helps one answer the question of how changing a variables values would change the outcome.\n",
        "\n",
        "The partial dependence plots show only impact of single variable if others are kept constant. But in many cases, there is interaction between variables. So they are very useful in estimating whether, for example, doubling some predictor varible will double a response or whether that predictor varible is already saturated."
      ],
      "metadata": {
        "id": "kJ3dmVse3IPQ"
      }
    },
    {
      "cell_type": "code",
      "source": [
        "print(X)"
      ],
      "metadata": {
        "colab": {
          "base_uri": "https://localhost:8080/"
        },
        "id": "B8jG3XnY51Hu",
        "outputId": "8f2573b4-e8bd-4cf5-d3ec-353e40ddf8ea"
      },
      "execution_count": null,
      "outputs": [
        {
          "output_type": "stream",
          "name": "stdout",
          "text": [
            "['LIMIT_BAL', 'SEX', 'EDUCATION', 'MARRIAGE', 'AGE', 'PAY_1', 'PAY_2', 'PAY_3', 'PAY_4', 'PAY_5', 'PAY_6', 'BILL_AMT1', 'BILL_AMT2', 'BILL_AMT3', 'BILL_AMT4', 'BILL_AMT5', 'BILL_AMT6', 'PAY_AMT1', 'PAY_AMT2', 'PAY_AMT3', 'PAY_AMT4', 'PAY_AMT5', 'PAY_AMT6']\n"
          ]
        }
      ]
    },
    {
      "cell_type": "code",
      "source": [
        "best_model.partial_plot(df, cols=['PAY_6'])"
      ],
      "metadata": {
        "colab": {
          "base_uri": "https://localhost:8080/",
          "height": 1000
        },
        "id": "rG-m64kv55HQ",
        "outputId": "ebc67339-60f9-42c9-da67-f437891a3a6a"
      },
      "execution_count": null,
      "outputs": [
        {
          "output_type": "stream",
          "name": "stdout",
          "text": [
            "PartialDependencePlot progress: |████████████████████████████████████████████████| (done) 100%\n"
          ]
        },
        {
          "output_type": "execute_result",
          "data": {
            "text/plain": [
              "[PartialDependence: Partial Dependence Plot of model GBM_5_AutoML_1_20221107_183359 on column 'PAY_6'.\n",
              "pay_6    mean_response    stddev_response    std_error_mean_response\n",
              "-------  ---------------  -----------------  -------------------------\n",
              "-2       0.211468         0.183077           0.001057\n",
              "-1       0.213115         0.180823           0.00104398\n",
              "0        0.212283         0.182688           0.00105475\n",
              "1        0.258331         0.18629            0.00107554\n",
              "2        0.258331         0.18629            0.00107554\n",
              "3        0.268534         0.193522           0.0011173\n",
              "4        0.281539         0.18527            0.00106966\n",
              "5        0.326575         0.170833           0.000986305\n",
              "6        0.372534         0.151585           0.000875174\n",
              "7        0.372534         0.151585           0.000875174\n",
              "8        0.372534         0.151585           0.000875174]"
            ]
          },
          "metadata": {},
          "execution_count": 75
        },
        {
          "output_type": "display_data",
          "data": {
            "text/plain": [
              "<Figure size 504x720 with 1 Axes>"
            ],
            "image/png": "[encoded data removed]"
          },
          "metadata": {
            "needs_background": "light"
          }
        }
      ]
    },
    {
      "cell_type": "code",
      "source": [
        "best_model.partial_plot(df, cols=['PAY_1', 'PAY_2','LIMIT_BAL', 'PAY_3'])"
      ],
      "metadata": {
        "colab": {
          "base_uri": "https://localhost:8080/",
          "height": 1000
        },
        "id": "kH9F-_qYFN4B",
        "outputId": "215afcba-0352-4c14-a5fc-c839918033ed"
      },
      "execution_count": null,
      "outputs": [
        {
          "output_type": "stream",
          "name": "stdout",
          "text": [
            "PartialDependencePlot progress: |████████████████████████████████████████████████| (done) 100%\n"
          ]
        },
        {
          "output_type": "execute_result",
          "data": {
            "text/plain": [
              "[PartialDependence: Partial Dependence Plot of model GBM_5_AutoML_1_20221107_183359 on column 'PAY_1'.\n",
              "pay_1    mean_response    stddev_response    std_error_mean_response\n",
              "-------  ---------------  -----------------  -------------------------\n",
              "-2       0.182883         0.133232           0.000769212\n",
              "-1       0.188078         0.13337            0.000770014\n",
              "0        0.187211         0.134144           0.00077448\n",
              "1        0.203393         0.134189           0.000774739\n",
              "2        0.55591          0.138924           0.000802079\n",
              "3        0.558172         0.141515           0.000817038\n",
              "4        0.555804         0.134714           0.000777773\n",
              "5        0.515681         0.139284           0.000804157\n",
              "6        0.515681         0.139284           0.000804157\n",
              "7        0.515681         0.139284           0.000804157\n",
              "8        0.515681         0.139284           0.000804157,\n",
              " PartialDependence: Partial Dependence Plot of model GBM_5_AutoML_1_20221107_183359 on column 'PAY_2'.\n",
              "pay_2    mean_response    stddev_response    std_error_mean_response\n",
              "-------  ---------------  -----------------  -------------------------\n",
              "-2       0.204831         0.179545           0.0010366\n",
              "-1       0.20589          0.179761           0.00103785\n",
              "0        0.205188         0.175916           0.00101565\n",
              "1        0.21931          0.171368           0.000989395\n",
              "2        0.357512         0.153961           0.000888896\n",
              "3        0.353869         0.167296           0.000965886\n",
              "4        0.322653         0.162593           0.00093873\n",
              "5        0.322653         0.162593           0.00093873\n",
              "6        0.322517         0.16247            0.00093802\n",
              "7        0.32111          0.160216           0.000925005\n",
              "8        0.32111          0.160216           0.000925005,\n",
              " PartialDependence: Partial Dependence Plot of model GBM_5_AutoML_1_20221107_183359 on column 'LIMIT_BAL'.\n",
              "limit_bal    mean_response    stddev_response    std_error_mean_response\n",
              "-----------  ---------------  -----------------  -------------------------\n",
              "10000        0.279971         0.173097           0.000999376\n",
              "62105.3      0.254773         0.176755           0.0010205\n",
              "114211       0.217873         0.18942            0.00109362\n",
              "166316       0.203138         0.194954           0.00112557\n",
              "218421       0.20029          0.19677            0.00113605\n",
              "270526       0.199967         0.196888           0.00113673\n",
              "322632       0.191468         0.195745           0.00113014\n",
              "374737       0.187117         0.196061           0.00113196\n",
              "426842       0.18633          0.198375           0.00114532\n",
              "478947       0.187011         0.198602           0.00114663\n",
              "531053       0.18817          0.199004           0.00114895\n",
              "583158       0.188772         0.198693           0.00114716\n",
              "635263       0.188835         0.198773           0.00114762\n",
              "687368       0.212718         0.205532           0.00118664\n",
              "739474       0.212718         0.205532           0.00118664\n",
              "791579       0.212718         0.205532           0.00118664\n",
              "843684       0.212718         0.205532           0.00118664\n",
              "895789       0.212718         0.205532           0.00118664\n",
              "947895       0.212718         0.205532           0.00118664\n",
              "1e+06        0.212718         0.205532           0.00118664,\n",
              " PartialDependence: Partial Dependence Plot of model GBM_5_AutoML_1_20221107_183359 on column 'PAY_3'.\n",
              "pay_3    mean_response    stddev_response    std_error_mean_response\n",
              "-------  ---------------  -----------------  -------------------------\n",
              "-2       0.197498         0.17183            0.000992064\n",
              "-1       0.201999         0.168352           0.000971979\n",
              "0        0.215668         0.191229           0.00110406\n",
              "1        0.23875          0.185907           0.00107334\n",
              "2        0.27192          0.172998           0.000998806\n",
              "3        0.262589         0.178026           0.00102783\n",
              "4        0.275176         0.176178           0.00101716\n",
              "5        0.27516          0.176137           0.00101693\n",
              "6        0.274986         0.175841           0.00101522\n",
              "7        0.274986         0.175841           0.00101522\n",
              "8        0.274986         0.175841           0.00101522]"
            ]
          },
          "metadata": {},
          "execution_count": 73
        },
        {
          "output_type": "display_data",
          "data": {
            "text/plain": [
              "<Figure size 504x720 with 4 Axes>"
            ],
            "image/png": "[encoded data removed]"
          },
          "metadata": {
            "needs_background": "light"
          }
        }
      ]
    },
    {
      "cell_type": "markdown",
      "source": [
        "From the above plots we can see that lesser the LIMIT_BALANCE the more the chances of defaulting.\n",
        "\n",
        "Also the x-axis in PAY_1,2 is the number of months payments got delayed by a person. Those who deafulted for last 2 months are more likely to default the next month as well."
      ],
      "metadata": {
        "id": "Pi5I13IVSapz"
      }
    },
    {
      "cell_type": "markdown",
      "source": [
        "#Answering the questions"
      ],
      "metadata": {
        "id": "xoyOaJ86ytRL"
      }
    },
    {
      "cell_type": "markdown",
      "source": [
        "Question 1. Is the relationship significant?\n",
        "\n",
        "Answer: As shown in the variable importance plot, we can see that PAY_1, PAY_2, LIMIT_BALANCE are significantly related with the def_pay column as compared to the Age & others."
      ],
      "metadata": {
        "id": "pau6d4U6Wkx5"
      }
    },
    {
      "cell_type": "markdown",
      "source": [
        "Question 2. Are any model assumptions violated?\n",
        "\n",
        "Answer: No, The assumptions are not violated as the prediction depends on the past repayment history & variable importance plot shows the same."
      ],
      "metadata": {
        "id": "_DWbUmorXojc"
      }
    },
    {
      "cell_type": "markdown",
      "source": [
        "Question 3. Is there any multicollinearity in the model?\n",
        "\n",
        "Answer: From the above partial dependence plot we see that only PAY_1 and PAY_2 has some correlation."
      ],
      "metadata": {
        "id": "ljOpT0g-b4s-"
      }
    },
    {
      "cell_type": "markdown",
      "source": [
        "Question 4. In the multivariate models are predictor variables independent of all the other predictor variables?\n",
        "\n",
        "Answer: According to above partial dependence plots, the predictor variables are independent of each other. Only the PAY_1 and PAY_2 are slightly dependent."
      ],
      "metadata": {
        "id": "cCIi0hqXegwk"
      }
    },
    {
      "cell_type": "markdown",
      "source": [
        "Question 5. In multivariate models rank the most significant predictor variables and exclude insignificant ones from the model.\n",
        "\n",
        "Answer: According to the variable importance plot generated, we can see that PAY_1 is the most significant whereas PAY_2 & LIMIT_BAL also play a role as significant predictor. The least significant predictors PAY_6, PAY_4, BILL_AMT2 are excluded."
      ],
      "metadata": {
        "id": "89pAIf1ge5Qy"
      }
    },
    {
      "cell_type": "markdown",
      "source": [
        "Question 6. Does the model make sense?\n",
        "\n",
        "Answer: As we see from the above preditions and models, GBM is the best predicted model for this case and the metrics MSE, RMSE as well."
      ],
      "metadata": {
        "id": "5J9so98Pgx5D"
      }
    },
    {
      "cell_type": "markdown",
      "source": [
        "Question 7. Does regularization help?\n",
        "\n",
        "Answer: We found that once we tune in the different values, the MSE and RMSE does not improve, apart from that the metric value declines. So, we can say that the regularization doesn not help that much."
      ],
      "metadata": {
        "id": "KKCd4CCbg6MQ"
      }
    },
    {
      "cell_type": "markdown",
      "source": [
        "Question 8. Which independent variables are significant?\n",
        "\n",
        "Answer: As from the variable importance graph; we can see that PAY_1, PAY_2, LIMIT_BAL, PAY_3 are significant."
      ],
      "metadata": {
        "id": "s9JcDSExg9eV"
      }
    },
    {
      "cell_type": "markdown",
      "source": [
        "Question 9. Which hyperparameters are important?\n",
        "\n",
        "Answer: Hyperparameters are used to regulate the network structure. They genrally control the learning process and control the values of model parameters. The n_estimators and max_depth are used as hyperparameters here."
      ],
      "metadata": {
        "id": "xC0FJslChHZ_"
      }
    },
    {
      "cell_type": "markdown",
      "source": [
        "Question 10. Coding professionalism?\n",
        "\n",
        "Answer: All the code written in this notebook has significant importance from installing h2O to plotting graphs. NO unnecessary churn is found in the code."
      ],
      "metadata": {
        "id": "bp6FU5MzhMmz"
      }
    },
    {
      "cell_type": "markdown",
      "source": [
        "#Conclusion\n",
        "\n",
        "The AutoML is used to predict the best fitting model and has been conlcuded that PAY_1, PAY_2, LIMIT_BAL, and PAY_3 play a major role in determinignthe default prediction. The RMSE value is calculated as 0.365691 & The best model is GBM_5_AutoML_1_20221107_183359 for which pairplots have been depicted."
      ],
      "metadata": {
        "id": "SyeO15_6pcTC"
      }
    },
    {
      "cell_type": "markdown",
      "source": [
        "#The MIT License\n",
        "\n",
        "Copyright\n",
        "\n",
        "Permission is hereby granted, free of charge, to any person obtaining a copy of this software and associated documentation files (the \"Software\"), to deal in the Software without restriction, including without limitation the rights to use, copy, modify, merge, publish, distribute, sublicense, and/or sell copies of the Software, and to permit persons to whom the Software is furnished to do so, subject to the following conditions:\n",
        "\n",
        "The above copyright notice and this permission notice shall be included in all copies or substantial portions of the Software.\n",
        "\n",
        "THE SOFTWARE IS PROVIDED \"AS IS\", WITHOUT WARRANTY OF ANY KIND, EXPRESS OR IMPLIED, INCLUDING BUT NOT LIMITED TO THE WARRANTIES OF MERCHANTABILITY, FITNESS FOR A PARTICULAR PURPOSE AND NONINFRINGEMENT. IN NO EVENT SHALL THE AUTHORS OR COPYRIGHT HOLDERS BE LIABLE FOR ANY CLAIM, DAMAGES OR OTHER LIABILITY, WHETHER IN AN ACTION OF CONTRACT, TORT OR OTHERWISE, ARISING FROM, OUT OF OR IN CONNECTION WITH THE SOFTWARE OR THE USE OR OTHER DEALINGS IN THE SOFTWARE."
      ],
      "metadata": {
        "id": "tZLO_1Ehq409"
      }
    }
  ]
}